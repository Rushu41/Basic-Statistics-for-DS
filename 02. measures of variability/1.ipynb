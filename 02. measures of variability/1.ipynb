{
 "cells": [
  {
   "cell_type": "code",
   "execution_count": 1,
   "id": "35e95cd2-8d75-42ec-af31-c9402f1bd869",
   "metadata": {},
   "outputs": [],
   "source": [
    "import numpy as np\n",
    "import pandas as pd\n",
    "import matplotlib.pyplot as mlt\n",
    "import seaborn as sns"
   ]
  },
  {
   "cell_type": "code",
   "execution_count": 9,
   "id": "cb7ac0d0-4a37-4287-a175-194b44be1cea",
   "metadata": {},
   "outputs": [],
   "source": [
    "ds = pd.read_csv(\"tips.csv\")"
   ]
  },
  {
   "cell_type": "code",
   "execution_count": 10,
   "id": "7df22e47-3d4d-44f0-a216-06d3b81d771d",
   "metadata": {},
   "outputs": [
    {
     "data": {
      "text/html": [
       "<div>\n",
       "<style scoped>\n",
       "    .dataframe tbody tr th:only-of-type {\n",
       "        vertical-align: middle;\n",
       "    }\n",
       "\n",
       "    .dataframe tbody tr th {\n",
       "        vertical-align: top;\n",
       "    }\n",
       "\n",
       "    .dataframe thead th {\n",
       "        text-align: right;\n",
       "    }\n",
       "</style>\n",
       "<table border=\"1\" class=\"dataframe\">\n",
       "  <thead>\n",
       "    <tr style=\"text-align: right;\">\n",
       "      <th></th>\n",
       "      <th>Unnamed: 0</th>\n",
       "      <th>person</th>\n",
       "      <th>total</th>\n",
       "      <th>cuisine</th>\n",
       "      <th>restaurant</th>\n",
       "      <th>sitting_time</th>\n",
       "      <th>payment_type</th>\n",
       "      <th>tips</th>\n",
       "    </tr>\n",
       "  </thead>\n",
       "  <tbody>\n",
       "    <tr>\n",
       "      <th>0</th>\n",
       "      <td>0</td>\n",
       "      <td>2</td>\n",
       "      <td>819</td>\n",
       "      <td>vegetarian</td>\n",
       "      <td>Restaurant_5</td>\n",
       "      <td>142min</td>\n",
       "      <td>credit_card</td>\n",
       "      <td>125</td>\n",
       "    </tr>\n",
       "    <tr>\n",
       "      <th>1</th>\n",
       "      <td>1</td>\n",
       "      <td>3</td>\n",
       "      <td>1011</td>\n",
       "      <td>chinese</td>\n",
       "      <td>Restaurant_3</td>\n",
       "      <td>54min</td>\n",
       "      <td>credit_card</td>\n",
       "      <td>145</td>\n",
       "    </tr>\n",
       "    <tr>\n",
       "      <th>2</th>\n",
       "      <td>2</td>\n",
       "      <td>6</td>\n",
       "      <td>4224</td>\n",
       "      <td>kebab</td>\n",
       "      <td>Restaurant_9</td>\n",
       "      <td>112min</td>\n",
       "      <td>cash</td>\n",
       "      <td>330</td>\n",
       "    </tr>\n",
       "  </tbody>\n",
       "</table>\n",
       "</div>"
      ],
      "text/plain": [
       "   Unnamed: 0  person  total     cuisine    restaurant sitting_time  \\\n",
       "0           0       2    819  vegetarian  Restaurant_5       142min   \n",
       "1           1       3   1011     chinese  Restaurant_3        54min   \n",
       "2           2       6   4224       kebab  Restaurant_9       112min   \n",
       "\n",
       "  payment_type  tips  \n",
       "0  credit_card   125  \n",
       "1  credit_card   145  \n",
       "2         cash   330  "
      ]
     },
     "execution_count": 10,
     "metadata": {},
     "output_type": "execute_result"
    }
   ],
   "source": [
    "ds.head(3)"
   ]
  },
  {
   "cell_type": "code",
   "execution_count": 11,
   "id": "2aac0867-bf77-4b7b-a147-c20129dbd767",
   "metadata": {},
   "outputs": [
    {
     "data": {
      "text/plain": [
       "5"
      ]
     },
     "execution_count": 11,
     "metadata": {},
     "output_type": "execute_result"
    }
   ],
   "source": [
    "ds[\"tips\"].min()"
   ]
  },
  {
   "cell_type": "code",
   "execution_count": 12,
   "id": "6291ad86-893e-4ba9-ad07-55ad83ba1b4c",
   "metadata": {},
   "outputs": [
    {
     "data": {
      "text/plain": [
       "985"
      ]
     },
     "execution_count": 12,
     "metadata": {},
     "output_type": "execute_result"
    }
   ],
   "source": [
    "ds[\"tips\"].max()"
   ]
  },
  {
   "cell_type": "code",
   "execution_count": 13,
   "id": "3f21cbe4-5df4-41b6-a014-3fbe0992a353",
   "metadata": {},
   "outputs": [],
   "source": [
    "min = ds[\"tips\"].min()\n",
    "max = ds[\"tips\"].max()\n",
    "range = max-min"
   ]
  },
  {
   "cell_type": "code",
   "execution_count": 43,
   "id": "d1406536-e131-46f3-9202-d653b4f09fc9",
   "metadata": {},
   "outputs": [
    {
     "data": {
      "text/plain": [
       "980"
      ]
     },
     "execution_count": 43,
     "metadata": {},
     "output_type": "execute_result"
    }
   ],
   "source": [
    "range"
   ]
  },
  {
   "cell_type": "code",
   "execution_count": 44,
   "id": "9f1df6a5-bf12-4c04-b2d4-ebc8149f5e8d",
   "metadata": {},
   "outputs": [],
   "source": [
    "sec_a = np.array([75,65,73,68,72,76])\n",
    "sec_b = np.array([90,47,43,96,93,51])\n",
    "no = np.array([1,2,3,4,5,6])\n",
    "mean = np.mean(sec_b)"
   ]
  },
  {
   "cell_type": "code",
   "execution_count": 47,
   "id": "909241be-1d55-45a6-a789-f716f5259424",
   "metadata": {},
   "outputs": [],
   "source": [
    "mean_value = int(mean)  # Renaming the variable\n"
   ]
  },
  {
   "cell_type": "code",
   "execution_count": 52,
   "id": "872033a9-4eba-438c-ad2e-a61d38ca8d5d",
   "metadata": {},
   "outputs": [
    {
     "data": {
      "image/png": "[encoded data removed]",
      "text/plain": [
       "<Figure size 1000x300 with 1 Axes>"
      ]
     },
     "metadata": {},
     "output_type": "display_data"
    }
   ],
   "source": [
    "mlt.figure(figsize=(10,3))\n",
    "mlt.scatter(sec_a, no, label=\"sec A\")\n",
    "mlt.scatter(sec_b, no, c=\"red\", label=\"sec B\")\n",
    "mlt.plot([mean_value] * len(no), no, c=\"red\", label=\"Mean Line\")\n",
    "mlt.legend()\n",
    "mlt.show()"
   ]
  },
  {
   "cell_type": "code",
   "execution_count": 54,
   "id": "d95f9255-70d3-49f8-9256-ccd70aa19523",
   "metadata": {},
   "outputs": [],
   "source": [
    "mad_a = (np.sum(np.abs(sec_a-mean)))/len(sec_a)\n",
    "mad_b = (np.sum(np.abs(sec_b-mean)))/len(sec_b)"
   ]
  },
  {
   "cell_type": "code",
   "execution_count": 55,
   "id": "60fc54b3-2976-412e-a24e-fe59b71c2cf6",
   "metadata": {},
   "outputs": [
    {
     "data": {
      "text/plain": [
       "3.8333333333333335"
      ]
     },
     "execution_count": 55,
     "metadata": {},
     "output_type": "execute_result"
    }
   ],
   "source": [
    "mad_a"
   ]
  },
  {
   "cell_type": "code",
   "execution_count": 56,
   "id": "b8a6ac36-9b80-4dcd-9675-33faf380dae8",
   "metadata": {},
   "outputs": [
    {
     "data": {
      "text/plain": [
       "23.0"
      ]
     },
     "execution_count": 56,
     "metadata": {},
     "output_type": "execute_result"
    }
   ],
   "source": [
    "mad_b"
   ]
  },
  {
   "cell_type": "code",
   "execution_count": 58,
   "id": "245543ce-89ac-460a-9c44-fe97bace2997",
   "metadata": {},
   "outputs": [
    {
     "data": {
      "text/plain": [
       "(3.8622100754188224, 23.18045153428495)"
      ]
     },
     "execution_count": 58,
     "metadata": {},
     "output_type": "execute_result"
    }
   ],
   "source": [
    "np.std(sec_a),np.std(sec_b)"
   ]
  },
  {
   "cell_type": "code",
   "execution_count": 59,
   "id": "e88c8000-15ed-45fe-be63-ef7ef1b1ac1e",
   "metadata": {},
   "outputs": [
    {
     "data": {
      "text/plain": [
       "(14.916666666666666, 537.3333333333334)"
      ]
     },
     "execution_count": 59,
     "metadata": {},
     "output_type": "execute_result"
    }
   ],
   "source": [
    "np.var(sec_a),np.var(sec_b)"
   ]
  },
  {
   "cell_type": "code",
   "execution_count": 61,
   "id": "db928be2-7696-4bc1-9db5-741ec8737fbf",
   "metadata": {},
   "outputs": [],
   "source": [
    "ds2 = pd.read_csv(\"titanic.csv\")"
   ]
  },
  {
   "cell_type": "code",
   "execution_count": 62,
   "id": "c1f9f4f5-723b-4808-af8c-13ff4d16ee54",
   "metadata": {},
   "outputs": [
    {
     "data": {
      "text/html": [
       "<div>\n",
       "<style scoped>\n",
       "    .dataframe tbody tr th:only-of-type {\n",
       "        vertical-align: middle;\n",
       "    }\n",
       "\n",
       "    .dataframe tbody tr th {\n",
       "        vertical-align: top;\n",
       "    }\n",
       "\n",
       "    .dataframe thead th {\n",
       "        text-align: right;\n",
       "    }\n",
       "</style>\n",
       "<table border=\"1\" class=\"dataframe\">\n",
       "  <thead>\n",
       "    <tr style=\"text-align: right;\">\n",
       "      <th></th>\n",
       "      <th>PassengerId</th>\n",
       "      <th>Survived</th>\n",
       "      <th>Pclass</th>\n",
       "      <th>Name</th>\n",
       "      <th>Sex</th>\n",
       "      <th>Age</th>\n",
       "      <th>SibSp</th>\n",
       "      <th>Parch</th>\n",
       "      <th>Ticket</th>\n",
       "      <th>Fare</th>\n",
       "      <th>Cabin</th>\n",
       "      <th>Embarked</th>\n",
       "    </tr>\n",
       "  </thead>\n",
       "  <tbody>\n",
       "    <tr>\n",
       "      <th>0</th>\n",
       "      <td>1</td>\n",
       "      <td>0</td>\n",
       "      <td>3</td>\n",
       "      <td>Braund, Mr. Owen Harris</td>\n",
       "      <td>male</td>\n",
       "      <td>22.0</td>\n",
       "      <td>1</td>\n",
       "      <td>0</td>\n",
       "      <td>A/5 21171</td>\n",
       "      <td>7.2500</td>\n",
       "      <td>NaN</td>\n",
       "      <td>S</td>\n",
       "    </tr>\n",
       "    <tr>\n",
       "      <th>1</th>\n",
       "      <td>2</td>\n",
       "      <td>1</td>\n",
       "      <td>1</td>\n",
       "      <td>Cumings, Mrs. John Bradley (Florence Briggs Th...</td>\n",
       "      <td>female</td>\n",
       "      <td>38.0</td>\n",
       "      <td>1</td>\n",
       "      <td>0</td>\n",
       "      <td>PC 17599</td>\n",
       "      <td>71.2833</td>\n",
       "      <td>C85</td>\n",
       "      <td>C</td>\n",
       "    </tr>\n",
       "    <tr>\n",
       "      <th>2</th>\n",
       "      <td>3</td>\n",
       "      <td>1</td>\n",
       "      <td>3</td>\n",
       "      <td>Heikkinen, Miss. Laina</td>\n",
       "      <td>female</td>\n",
       "      <td>26.0</td>\n",
       "      <td>0</td>\n",
       "      <td>0</td>\n",
       "      <td>STON/O2. 3101282</td>\n",
       "      <td>7.9250</td>\n",
       "      <td>NaN</td>\n",
       "      <td>S</td>\n",
       "    </tr>\n",
       "  </tbody>\n",
       "</table>\n",
       "</div>"
      ],
      "text/plain": [
       "   PassengerId  Survived  Pclass  \\\n",
       "0            1         0       3   \n",
       "1            2         1       1   \n",
       "2            3         1       3   \n",
       "\n",
       "                                                Name     Sex   Age  SibSp  \\\n",
       "0                            Braund, Mr. Owen Harris    male  22.0      1   \n",
       "1  Cumings, Mrs. John Bradley (Florence Briggs Th...  female  38.0      1   \n",
       "2                             Heikkinen, Miss. Laina  female  26.0      0   \n",
       "\n",
       "   Parch            Ticket     Fare Cabin Embarked  \n",
       "0      0         A/5 21171   7.2500   NaN        S  \n",
       "1      0          PC 17599  71.2833   C85        C  \n",
       "2      0  STON/O2. 3101282   7.9250   NaN        S  "
      ]
     },
     "execution_count": 62,
     "metadata": {},
     "output_type": "execute_result"
    }
   ],
   "source": [
    "ds2.head(3)"
   ]
  },
  {
   "cell_type": "code",
   "execution_count": 64,
   "id": "9591ea8a-52e7-4bb1-ad76-9e8dfe25ab73",
   "metadata": {},
   "outputs": [
    {
     "data": {
      "text/plain": [
       "211.0191247463081"
      ]
     },
     "execution_count": 64,
     "metadata": {},
     "output_type": "execute_result"
    }
   ],
   "source": [
    "ds2[\"Age\"].var()"
   ]
  },
  {
   "cell_type": "code",
   "execution_count": null,
   "id": "172e0a39-00b9-4b22-b44c-0a21a01de391",
   "metadata": {},
   "outputs": [],
   "source": []
  }
 ],
 "metadata": {
  "kernelspec": {
   "display_name": "Python 3 (ipykernel)",
   "language": "python",
   "name": "python3"
  },
  "language_info": {
   "codemirror_mode": {
    "name": "ipython",
    "version": 3
   },
   "file_extension": ".py",
   "mimetype": "text/x-python",
   "name": "python",
   "nbconvert_exporter": "python",
   "pygments_lexer": "ipython3",
   "version": "3.12.4"
  }
 },
 "nbformat": 4,
 "nbformat_minor": 5
}
