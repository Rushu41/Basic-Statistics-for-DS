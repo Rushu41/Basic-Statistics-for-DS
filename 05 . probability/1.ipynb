{
 "cells": [
  {
   "cell_type": "markdown",
   "id": "d0eed6e4-ef07-4ddf-a121-d80e6da44992",
   "metadata": {},
   "source": [
    "<h1>Probability</h1>"
   ]
  },
  {
   "cell_type": "markdown",
   "id": "66129b8b-e3d7-4528-b43e-cabd8861091d",
   "metadata": {},
   "source": [
    "<h2>Random Variables</h2>"
   ]
  },
  {
   "cell_type": "raw",
   "id": "609eea8d-873c-4799-948a-5aa9991bb4d6",
   "metadata": {},
   "source": [
    "random variable x is a function that assigns a real number to each outcome in the sample space of random experiment"
   ]
  },
  {
   "cell_type": "raw",
   "id": "7d82ceef-6ba2-4e55-9f37-d012dda67934",
   "metadata": {},
   "source": [
    "discrete random variables : variable that takes on a countable number of distinct values.\n",
    "Example: Rolling a fair six-sided die. The outcome is always one of {1, 2, 3, 4, 5, 6}.\n",
    "\n",
    "------------------------------------------------------------------------------------------\n",
    "continuous random variables : variable that can take on any value within given range or interval.\n",
    "Example: Generating a random height of a person (e.g., between 150 cm and 200 cm).\n"
   ]
  },
  {
   "cell_type": "raw",
   "id": "2f08dabb-b161-49cb-9365-eeb7d5916474",
   "metadata": {},
   "source": [
    "Probability measures the likelihood of a particular event or outcome occuring.\n",
    "\n",
    "P(A) = (Number of times A occurs)/ Total number of possible outcomes"
   ]
  },
  {
   "cell_type": "raw",
   "id": "690c90d9-5025-40c0-8966-ff34fc1f9672",
   "metadata": {},
   "source": [
    "A probability distribution is a statistical function that describes all the possible values and likelihoods that \\\n",
    "a random variable can take within a given range.\n"
   ]
  },
  {
   "cell_type": "raw",
   "id": "84c384b3-32b5-4fc3-b68f-e69bc5ecb2e5",
   "metadata": {},
   "source": [
    "1. Discrete Distribution:\n",
    "A discrete distribution represents a probability distribution of a countable set of values. The values are distinct and separate; they cannot be subdivided further in a meaningful way.\n",
    "\n",
    "Example:\n",
    "The number of students in a classroom (you can't have 30.5 students).\n",
    "Rolling a die (outcomes: {1, 2, 3, 4, 5, 6}).\n",
    "Number of calls received at a call center in an hour.\n",
    "Common Discrete Distributions:\n",
    "Binomial Distribution (e.g., number of heads in 10 coin flips)\n",
    "Poisson Distribution (e.g., number of emails received per day)\n",
    "Geometric Distribution (e.g., number of trials until first success)"
   ]
  },
  {
   "cell_type": "raw",
   "id": "89e01d74-e9b6-4b68-b1aa-bd5bc9ce2b93",
   "metadata": {},
   "source": [
    "2. Continuous Distribution:\n",
    "A continuous distribution represents a probability distribution of an uncountable set of values. The values can take any number within a given range and can be infinitely subdivided.\n",
    "\n",
    "Example:\n",
    "The height of students in a school (e.g., 165.23 cm, 170.5 cm).\n",
    "Time taken to complete a race (e.g., 12.53 seconds, 13.78 seconds).\n",
    "Temperature in a city (e.g., 30.4°C, 32.1°C).\n",
    "Common Continuous Distributions:\n",
    "Normal Distribution (e.g., human IQ scores)\n",
    "Exponential Distribution (e.g., time between arrivals at a bus stop)\n",
    "Uniform Distribution (e.g., random real numbers between 0 and 1)\n"
   ]
  },
  {
   "cell_type": "markdown",
   "id": "25dc1d7b-00fe-4239-b435-81ae5096c571",
   "metadata": {},
   "source": [
    "![](download.png)"
   ]
  },
  {
   "cell_type": "markdown",
   "id": "9c73bc81-e32a-41b0-ad92-6287768a1f56",
   "metadata": {},
   "source": [
    "![](p1.png)"
   ]
  },
  {
   "cell_type": "code",
   "execution_count": 2,
   "id": "fc2aee3f-7e16-4e64-9b8b-5ab6400f0734",
   "metadata": {},
   "outputs": [
    {
     "data": {
      "text/plain": [
       "0.5833333333333334"
      ]
     },
     "execution_count": 2,
     "metadata": {},
     "output_type": "execute_result"
    }
   ],
   "source": [
    "#From above image find the probability of wait time less than 7\n",
    "from scipy.stats import uniform\n",
    "uniform.cdf(7,0,12)"
   ]
  },
  {
   "cell_type": "code",
   "execution_count": 3,
   "id": "8abea5c5-3daf-48dc-8b8f-83aac5eed09f",
   "metadata": {},
   "outputs": [
    {
     "data": {
      "text/plain": [
       "0.41666666666666663"
      ]
     },
     "execution_count": 3,
     "metadata": {},
     "output_type": "execute_result"
    }
   ],
   "source": [
    "# probability of wait time less than 7\n",
    "1-uniform.cdf(7,0,12)"
   ]
  },
  {
   "cell_type": "code",
   "execution_count": 4,
   "id": "516297db-c775-4162-9332-0fc022728f88",
   "metadata": {},
   "outputs": [
    {
     "data": {
      "text/plain": [
       "0.25000000000000006"
      ]
     },
     "execution_count": 4,
     "metadata": {},
     "output_type": "execute_result"
    }
   ],
   "source": [
    "#probability for P( 4 <= wait time <= 7)\n",
    "uniform.cdf(7,0,12)-uniform.cdf(4,0,12)"
   ]
  },
  {
   "cell_type": "code",
   "execution_count": 5,
   "id": "26c446c6-fb2d-4ab8-a792-35f2794e4270",
   "metadata": {},
   "outputs": [
    {
     "data": {
      "text/plain": [
       "array([4.68877291, 2.53758455, 1.57168856, 1.46000438, 0.33259595,\n",
       "       2.82144121, 4.72228972, 4.78064956, 3.10503877, 4.84138329])"
      ]
     },
     "execution_count": 5,
     "metadata": {},
     "output_type": "execute_result"
    }
   ],
   "source": [
    "uniform.rvs(0,5,size=10)"
   ]
  },
  {
   "cell_type": "raw",
   "id": "f32b562d-b0cd-4df2-8a73-c370b0d74eea",
   "metadata": {},
   "source": [
    "uniform.rvs(a, b, size=n) generates n random values from a continuous uniform distribution.\n",
    "The uniform distribution is defined as:\n",
    "𝑓(𝑥)=1/𝑏−𝑎,\n",
    "for 𝑎≤𝑥≤𝑏\n",
    "meaning all values within the range (a, b) are equally likely."
   ]
  },
  {
   "cell_type": "markdown",
   "id": "dfd6cc97-aa37-46b5-8610-8230bebdc7c7",
   "metadata": {},
   "source": [
    "<h2>#To give Amir a better idea of how long he'll have to wait, \n",
    "you'll simulate Amir waiting 1000 times and create a histogram to show him what he should expect. \n",
    "Recall from the last exercise that his minimum wait time is \n",
    "0 minutes and his maximum wait time is 30 minutes.</h2>"
   ]
  },
  {
   "cell_type": "code",
   "execution_count": 8,
   "id": "e74038bf-34db-4e16-a63b-1325fd0edab7",
   "metadata": {},
   "outputs": [
    {
     "data": {
      "image/png": "[encoded data removed]",
      "text/plain": [
       "<Figure size 640x480 with 1 Axes>"
      ]
     },
     "metadata": {},
     "output_type": "display_data"
    }
   ],
   "source": [
    "import matplotlib.pyplot as plt\n",
    "wait_times = uniform.rvs(0,30,size=1000)\n",
    "plt.hist(wait_times)\n",
    "plt.show()"
   ]
  },
  {
   "cell_type": "markdown",
   "id": "16dc1065-1322-4e00-9642-940472923d2b",
   "metadata": {},
   "source": [
    "![](biomial.png)"
   ]
  },
  {
   "cell_type": "raw",
   "id": "20ab699c-e304-4e1e-87a7-4b3cf8b769ab",
   "metadata": {},
   "source": [
    "A single flip\n",
    "binom.rvs( # of coins,probability of heads/success ,size = # of trials)"
   ]
  },
  {
   "cell_type": "code",
   "execution_count": 9,
   "id": "48eb60c6-ae0f-46a3-9fdb-1a0d0658d5e1",
   "metadata": {},
   "outputs": [],
   "source": [
    "from scipy.stats import binom\n",
    "binom.rvs()"
   ]
  },
  {
   "cell_type": "code",
   "execution_count": 11,
   "id": "b11c1d3e-20fc-4413-b892-e679ec3f1581",
   "metadata": {},
   "outputs": [
    {
     "data": {
      "text/plain": [
       "array([0, 0, 1, 0, 0, 1, 1, 1], dtype=int64)"
      ]
     },
     "execution_count": 11,
     "metadata": {},
     "output_type": "execute_result"
    }
   ],
   "source": [
    "# flip 1 coin with 50% success chance for 8 times\n",
    "binom.rvs(1,0.5,size=8)"
   ]
  },
  {
   "cell_type": "code",
   "execution_count": 13,
   "id": "4139d673-eaf5-4bef-a3c1-274244bd1b82",
   "metadata": {},
   "outputs": [
    {
     "data": {
      "text/plain": [
       "array([6], dtype=int64)"
      ]
     },
     "execution_count": 13,
     "metadata": {},
     "output_type": "execute_result"
    }
   ],
   "source": [
    "# flip 8 coin with 50% success chance for 1 times\n",
    "binom.rvs(8,0.5,size=1)"
   ]
  },
  {
   "cell_type": "raw",
   "id": "8c88d81c-372c-4b0f-baff-d88edafae6aa",
   "metadata": {},
   "source": [
    "# flip 3 coin with 50% success chance for 10 times\n",
    "binom.rvs(3,0.5,size=10)"
   ]
  },
  {
   "cell_type": "raw",
   "id": "c424f03d-d51f-464a-b8db-7edf5619828d",
   "metadata": {},
   "source": [
    "In the first experiment, there was 1 head.\n",
    "In the second experiment, there were 0 heads.\n",
    "In the third experiment, there was 1 head.\n",
    "In the fourth experiment, there was 1 head.\n",
    "In the fifth experiment, there were 2 heads.\n",
    "And so on, for all 10 experiments."
   ]
  },
  {
   "cell_type": "code",
   "execution_count": 23,
   "id": "a90f5a35-c297-40c4-9bed-3607993859a8",
   "metadata": {},
   "outputs": [
    {
     "data": {
      "text/plain": [
       "array([2, 1, 2, 0, 2, 1, 0, 1, 0, 0], dtype=int64)"
      ]
     },
     "execution_count": 23,
     "metadata": {},
     "output_type": "execute_result"
    }
   ],
   "source": [
    "binom.rvs(3,0.25,size=10)"
   ]
  },
  {
   "cell_type": "raw",
   "id": "a6f16364-9dc7-4c2f-9808-dd22e5fdf8b7",
   "metadata": {},
   "source": [
    "What is the probability of 7 head?\n",
    "P(heads ==7 )\n",
    "# binom.pmf(num of heads . num of trials , prob of heads)"
   ]
  },
  {
   "cell_type": "code",
   "execution_count": 24,
   "id": "f25d3981-c2fc-4ca6-99d5-333192f25a00",
   "metadata": {},
   "outputs": [
    {
     "data": {
      "text/plain": [
       "0.11718749999999999"
      ]
     },
     "execution_count": 24,
     "metadata": {},
     "output_type": "execute_result"
    }
   ],
   "source": [
    "binom.pmf(7,10,0.5)"
   ]
  },
  {
   "cell_type": "raw",
   "id": "000f80ae-8af2-42ea-862d-9c522ba5980a",
   "metadata": {},
   "source": [
    "What is the probability of 7 head or fewer?\n",
    "P(heads <=7 )\n",
    "# binom.cdf(num of heads . num of trials , prob of heads)"
   ]
  },
  {
   "cell_type": "code",
   "execution_count": 29,
   "id": "c2e9c514-24d3-4f51-9576-0bb1f8146591",
   "metadata": {},
   "outputs": [
    {
     "data": {
      "text/plain": [
       "0.9453125"
      ]
     },
     "execution_count": 29,
     "metadata": {},
     "output_type": "execute_result"
    }
   ],
   "source": [
    "binom.cdf(7,10,0.5)"
   ]
  },
  {
   "cell_type": "raw",
   "id": "caf4550a-6699-44f3-933e-53403b3a6d08",
   "metadata": {},
   "source": [
    "What is the probability of 7 head or greater?\n",
    "P(heads >=7 )\n",
    "# 1 - binom.cdf(num of heads . num of trials , prob of heads)"
   ]
  },
  {
   "cell_type": "code",
   "execution_count": 30,
   "id": "8f30f4ff-b7e4-4015-9261-51e062ec90d4",
   "metadata": {},
   "outputs": [
    {
     "data": {
      "text/plain": [
       "0.0546875"
      ]
     },
     "execution_count": 30,
     "metadata": {},
     "output_type": "execute_result"
    }
   ],
   "source": [
    "1 - binom.cdf(7,10,0.5)"
   ]
  },
  {
   "cell_type": "raw",
   "id": "5483c58a-591e-4afa-b86e-918efedf04e9",
   "metadata": {},
   "source": [
    "Expected value = n X p\n",
    "n = number of trials\n",
    "p = probability\n",
    "for above scenarios \n",
    "Expected value = 10 X 0.5 = 5"
   ]
  },
  {
   "cell_type": "raw",
   "id": "7079df7d-12d1-4f9d-901d-63879cd093d4",
   "metadata": {},
   "source": [
    "the bionomial distribution is a probability distribution of\n",
    "the number of successes in a sequence of independent trials"
   ]
  },
  {
   "cell_type": "markdown",
   "id": "f79af40e-e4fb-4e1d-bc20-6c353e9e6b4d",
   "metadata": {},
   "source": [
    "![](normal.png)"
   ]
  },
  {
   "cell_type": "markdown",
   "id": "d90d64a2-9be4-49d1-93df-605780a4e885",
   "metadata": {},
   "source": [
    "![](exmple.png)"
   ]
  },
  {
   "cell_type": "raw",
   "id": "3d040d21-aa89-44c5-a7c0-a686ff0c9add",
   "metadata": {},
   "source": [
    "from this graph find out the  percent of women that are shorter than 154 cm"
   ]
  },
  {
   "cell_type": "code",
   "execution_count": 32,
   "id": "2f3bb069-da46-46ab-95b4-e342c7893076",
   "metadata": {},
   "outputs": [],
   "source": [
    "from scipy.stats import norm"
   ]
  },
  {
   "cell_type": "code",
   "execution_count": 33,
   "id": "ce1e13f9-08ea-46cf-8641-66ab32cf54fa",
   "metadata": {},
   "outputs": [
    {
     "data": {
      "text/plain": [
       "0.15865525393145707"
      ]
     },
     "execution_count": 33,
     "metadata": {},
     "output_type": "execute_result"
    }
   ],
   "source": [
    "# here 161 is the mean and 7 is the standard deviation\n",
    "norm.cdf(154,161,7)"
   ]
  },
  {
   "cell_type": "code",
   "execution_count": 34,
   "id": "052f6827-e1ad-4ac3-811c-ae3a82300e72",
   "metadata": {},
   "outputs": [
    {
     "data": {
      "text/plain": [
       "0.8413447460685429"
      ]
     },
     "execution_count": 34,
     "metadata": {},
     "output_type": "execute_result"
    }
   ],
   "source": [
    "# percent of women that are taller than 154 cm\n",
    "1-norm.cdf(154,161,7)"
   ]
  },
  {
   "cell_type": "code",
   "execution_count": 35,
   "id": "6c0ee7e1-e227-49d3-8c25-6fba92cd4d61",
   "metadata": {},
   "outputs": [
    {
     "data": {
      "text/plain": [
       "0.1251993291672192"
      ]
     },
     "execution_count": 35,
     "metadata": {},
     "output_type": "execute_result"
    }
   ],
   "source": [
    "# percent of women that are  154 to 157 cm\n",
    "norm.cdf(157,161,7) - norm.cdf(154,161,7)"
   ]
  },
  {
   "cell_type": "code",
   "execution_count": 36,
   "id": "658c46cf-0052-43c5-94e4-7efb91cf7616",
   "metadata": {},
   "outputs": [
    {
     "data": {
      "text/plain": [
       "169.9708609588122"
      ]
     },
     "execution_count": 36,
     "metadata": {},
     "output_type": "execute_result"
    }
   ],
   "source": [
    "# find out the height where 90% of women shorter than\n",
    "norm.ppf(0.9,161,7)"
   ]
  },
  {
   "cell_type": "code",
   "execution_count": 37,
   "id": "cf8534e6-597f-4e6c-b7f3-a31e1e1d0b33",
   "metadata": {},
   "outputs": [
    {
     "data": {
      "text/plain": [
       "152.0291390411878"
      ]
     },
     "execution_count": 37,
     "metadata": {},
     "output_type": "execute_result"
    }
   ],
   "source": [
    "# find out the height where 90% of women taller than\n",
    "norm.ppf(0.1,161,7)\n"
   ]
  },
  {
   "cell_type": "code",
   "execution_count": 38,
   "id": "1a020dfe-9931-4046-a27e-a207c5558ecf",
   "metadata": {},
   "outputs": [
    {
     "data": {
      "text/plain": [
       "array([151.1519848 , 157.19977927, 163.89698044, 152.27796096,\n",
       "       164.86789004, 173.29730991, 162.88153721, 161.38016513,\n",
       "       164.27914672, 150.34860998])"
      ]
     },
     "execution_count": 38,
     "metadata": {},
     "output_type": "execute_result"
    }
   ],
   "source": [
    "#generate 10 random numbers\n",
    "norm.rvs(161,7,10)"
   ]
  },
  {
   "cell_type": "markdown",
   "id": "300d0a20-d43c-471a-b3c1-4ac903352ce4",
   "metadata": {},
   "source": [
    "<h1>Poisson Distribution</h1>"
   ]
  },
  {
   "cell_type": "raw",
   "id": "447b4344-d6af-4c49-a1bb-d762cfebaef6",
   "metadata": {},
   "source": [
    "Poisson Process:\n",
    "Events appear to happen at a certain rate,but completely random.\n",
    "*Example:\n",
    " 1. number of animals adopted from an animal shelter per week.\n",
    " 2. number of people arriving at hotel per hour.\n",
    " 3. number of earthquakes in California per year.\n",
    "\n",
    "Time unit is irrelevant ,as long as you use the same unit when talking about the\n",
    "same situation.\n",
    "\n",
    "Poisson Distribution:\n",
    "Probabilty of some # 0f events occuring over a fixed period of time.\n",
    "*Example:\n",
    " 1. Probabilty of >=5 animals adopted from an animal shelter per week.\n",
    " 2. Probabilty of  12 people arriving at hotel per hour.\n",
    " 3. Probabilty of <20 earthquakes in California per year.\n"
   ]
  },
  {
   "cell_type": "raw",
   "id": "d4963d9a-b3fd-44a7-be74-f4751e54c1f3",
   "metadata": {},
   "source": [
    "Lamda(λ):\n",
    "λ = average number of events per time interval\n",
    " Example:\n",
    "  1. average number of aadoption per week is = 8"
   ]
  },
  {
   "cell_type": "code",
   "execution_count": 1,
   "id": "46f3ee34-8a70-4ec3-9b5a-2f49d5f112cc",
   "metadata": {},
   "outputs": [
    {
     "data": {
      "text/plain": [
       "0.09160366159257921"
      ]
     },
     "execution_count": 1,
     "metadata": {},
     "output_type": "execute_result"
    }
   ],
   "source": [
    "# if the  average number of adoption per week is 8, what is the P(# adoption per week == 5)??\n",
    "from scipy.stats import poisson\n",
    "poisson.pmf(5,8)"
   ]
  },
  {
   "cell_type": "code",
   "execution_count": 2,
   "id": "ab93a56b-6d58-41b4-9812-b8c5fb40e577",
   "metadata": {},
   "outputs": [
    {
     "data": {
      "text/plain": [
       "0.19123606207962532"
      ]
     },
     "execution_count": 2,
     "metadata": {},
     "output_type": "execute_result"
    }
   ],
   "source": [
    "# if the  average number of adoption per week is 8, what is the P(# adoption per week <= 5)??\n",
    "poisson.cdf(5,8)"
   ]
  },
  {
   "cell_type": "code",
   "execution_count": 3,
   "id": "f2d2ab3d-2be6-4b9c-bac7-e9523c8592d1",
   "metadata": {},
   "outputs": [
    {
     "data": {
      "text/plain": [
       "0.8087639379203747"
      ]
     },
     "execution_count": 3,
     "metadata": {},
     "output_type": "execute_result"
    }
   ],
   "source": [
    "# if the  average number of adoption per week is 8, what is the P(# adoption per week > 5)??\n",
    "1 - poisson.cdf(5,8)"
   ]
  },
  {
   "cell_type": "code",
   "execution_count": 4,
   "id": "b35e7f2b-d82b-4879-ad8d-a30aa36211c1",
   "metadata": {},
   "outputs": [
    {
     "data": {
      "text/plain": [
       "array([10,  9,  6, 10,  6,  9,  6,  3,  2,  5], dtype=int64)"
      ]
     },
     "execution_count": 4,
     "metadata": {},
     "output_type": "execute_result"
    }
   ],
   "source": [
    "#Sampling from poisson distribution\n",
    "poisson.rvs(8,size = 10)"
   ]
  },
  {
   "cell_type": "markdown",
   "id": "5175d698-d36c-4e71-b537-763ff69343fd",
   "metadata": {},
   "source": [
    "<h1>Exponential Distribution</h1>"
   ]
  },
  {
   "cell_type": "raw",
   "id": "58a8eb7f-c169-4189-aca0-7556a2af4086",
   "metadata": {},
   "source": [
    " Probability of time between poission events\n",
    "*Examples:\n",
    " 1. Probability of > 1 day between adoptions.\n",
    " 2. Probability of < 1o minutes between hotel arrivals.\n",
    " 3. Probability of 6-8 months between earthquakes.\n",
    "\n",
    "*also uses lamda(rate)\n",
    "* continuous (time)"
   ]
  },
  {
   "cell_type": "markdown",
   "id": "384d1550-6076-49f4-b081-bb98dada1976",
   "metadata": {},
   "source": [
    "![](11.png)  , ![](2.png)"
   ]
  },
  {
   "cell_type": "code",
   "execution_count": 5,
   "id": "ab194d34-8c36-4e20-b409-05fb44624569",
   "metadata": {},
   "outputs": [
    {
     "data": {
      "text/plain": [
       "0.3934693402873666"
      ]
     },
     "execution_count": 5,
     "metadata": {},
     "output_type": "execute_result"
    }
   ],
   "source": [
    "# P(wait <= 1min)\n",
    "from scipy.stats import expon\n",
    "expon.cdf(1,scale = 2)"
   ]
  },
  {
   "cell_type": "code",
   "execution_count": 6,
   "id": "aa6cc531-9bdc-4afa-9827-92986477bd99",
   "metadata": {},
   "outputs": [
    {
     "data": {
      "text/plain": [
       "0.1353352832366127"
      ]
     },
     "execution_count": 6,
     "metadata": {},
     "output_type": "execute_result"
    }
   ],
   "source": [
    "# P(wait > 4min)\n",
    "1 - expon.cdf(4,scale = 2)"
   ]
  },
  {
   "cell_type": "code",
   "execution_count": 7,
   "id": "7c8eec28-9e6c-44f0-bedf-682a9d409614",
   "metadata": {},
   "outputs": [
    {
     "data": {
      "text/plain": [
       "0.4711953764760207"
      ]
     },
     "execution_count": 7,
     "metadata": {},
     "output_type": "execute_result"
    }
   ],
   "source": [
    "# P(1min < wait < 4min)\n",
    "expon.cdf(4,scale = 2) - expon.cdf(1,scale = 2)"
   ]
  },
  {
   "cell_type": "code",
   "execution_count": null,
   "id": "360f058f-1f27-4113-8563-2cde6c372a51",
   "metadata": {},
   "outputs": [],
   "source": []
  }
 ],
 "metadata": {
  "kernelspec": {
   "display_name": "Python 3 (ipykernel)",
   "language": "python",
   "name": "python3"
  },
  "language_info": {
   "codemirror_mode": {
    "name": "ipython",
    "version": 3
   },
   "file_extension": ".py",
   "mimetype": "text/x-python",
   "name": "python",
   "nbconvert_exporter": "python",
   "pygments_lexer": "ipython3",
   "version": "3.12.4"
  }
 },
 "nbformat": 4,
 "nbformat_minor": 5
}
