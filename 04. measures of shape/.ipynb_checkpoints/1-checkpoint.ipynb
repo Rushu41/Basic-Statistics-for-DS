{
 "cells": [
  {
   "cell_type": "markdown",
   "id": "f638c397-17a2-42a0-8415-e382be2c6df9",
   "metadata": {},
   "source": [
    "<h1>Skewness</h1>"
   ]
  },
  {
   "cell_type": "raw",
   "id": "6c5438b9-1818-4b10-92b7-24ab136d50e4",
   "metadata": {},
   "source": [
    "Skewness is a statistical measure that describes the asymmetry of a dataset’s distribution. It indicates whether the data is symmetrically distributed or leans toward one side.\n",
    "\n",
    "Types of Skewness:\n",
    "Positive Skew (Right-Skewed) 📈\n",
    "\n",
    "The tail is longer on the right side.\n",
    "The mean > median > mode.\n",
    "Example: Income distribution (few very high values pull the mean up).\n",
    "----------------------------------------------------------------------\n",
    "Negative Skew (Left-Skewed) 📉\n",
    "\n",
    "The tail is longer on the left side.\n",
    "The mean < median < mode.\n",
    "Example: Test scores (most students score high, few score very low).\n",
    "----------------------------------------------------------------------\n",
    "Zero Skew (Symmetric) 🔁\n",
    "\n",
    "The distribution is evenly balanced.\n",
    "The mean = median = mode.\n",
    "Example: A perfectly normal distribution.\n",
    "Formula for Skewness:\n"
   ]
  },
  {
   "cell_type": "markdown",
   "id": "bfb5bfa7-8568-4f49-bd2e-63e7a80b3517",
   "metadata": {},
   "source": [
    "![skewformula.png](attachment:skewformula.png)"
   ]
  },
  {
   "cell_type": "code",
   "execution_count": null,
   "id": "2e23e333-92cf-4715-abfe-420781767b6c",
   "metadata": {},
   "outputs": [],
   "source": []
  }
 ],
 "metadata": {
  "kernelspec": {
   "display_name": "Python 3 (ipykernel)",
   "language": "python",
   "name": "python3"
  },
  "language_info": {
   "codemirror_mode": {
    "name": "ipython",
    "version": 3
   },
   "file_extension": ".py",
   "mimetype": "text/x-python",
   "name": "python",
   "nbconvert_exporter": "python",
   "pygments_lexer": "ipython3",
   "version": "3.12.4"
  }
 },
 "nbformat": 4,
 "nbformat_minor": 5
}
