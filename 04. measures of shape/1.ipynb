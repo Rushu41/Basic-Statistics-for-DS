{
 "cells": [
  {
   "cell_type": "markdown",
   "id": "f638c397-17a2-42a0-8415-e382be2c6df9",
   "metadata": {},
   "source": [
    "<h1>Skewness</h1>"
   ]
  },
  {
   "cell_type": "raw",
   "id": "6c5438b9-1818-4b10-92b7-24ab136d50e4",
   "metadata": {},
   "source": [
    "Skewness is a statistical measure that describes the asymmetry of a dataset’s distribution. It indicates whether the data is symmetrically distributed or leans toward one side.\n",
    "\n",
    "Types of Skewness:\n",
    "Positive Skew (Right-Skewed) 📈\n",
    "\n",
    "The tail is longer on the right side.\n",
    "The mean > median > mode.\n",
    "Example: Income distribution (few very high values pull the mean up).\n",
    "----------------------------------------------------------------------\n",
    "Negative Skew (Left-Skewed) 📉\n",
    "\n",
    "The tail is longer on the left side.\n",
    "The mean < median < mode.\n",
    "Example: Test scores (most students score high, few score very low).\n",
    "----------------------------------------------------------------------\n",
    "Zero Skew (Symmetric) 🔁\n",
    "\n",
    "The distribution is evenly balanced.\n",
    "The mean = median = mode.\n",
    "Example: A perfectly normal distribution.\n",
    "Formula for Skewness:\n"
   ]
  },
  {
   "cell_type": "markdown",
   "id": "d5024f28-ab95-4b61-9e20-2bea241926bf",
   "metadata": {},
   "source": [
    "![](skewformula.png)"
   ]
  },
  {
   "cell_type": "markdown",
   "id": "3de9cb21-a87e-4c9f-aed5-5d98c610a0d7",
   "metadata": {},
   "source": [
    "![](skewgraph.png)"
   ]
  },
  {
   "cell_type": "code",
   "execution_count": 2,
   "id": "aae07a77-9c6f-4e72-a8e5-3349708e5f23",
   "metadata": {},
   "outputs": [],
   "source": [
    "import numpy as np\n",
    "import pandas as pd\n",
    "import matplotlib.pyplot as plt\n",
    "import seaborn as sns"
   ]
  },
  {
   "cell_type": "code",
   "execution_count": 3,
   "id": "7a093476-decb-4797-9230-9dbfa1346f58",
   "metadata": {},
   "outputs": [],
   "source": [
    "ds = pd.read_csv(\"titanic.csv\")"
   ]
  },
  {
   "cell_type": "code",
   "execution_count": 4,
   "id": "7345076a-c24d-48f3-8cd0-02757b93c1bb",
   "metadata": {},
   "outputs": [
    {
     "data": {
      "text/html": [
       "<div>\n",
       "<style scoped>\n",
       "    .dataframe tbody tr th:only-of-type {\n",
       "        vertical-align: middle;\n",
       "    }\n",
       "\n",
       "    .dataframe tbody tr th {\n",
       "        vertical-align: top;\n",
       "    }\n",
       "\n",
       "    .dataframe thead th {\n",
       "        text-align: right;\n",
       "    }\n",
       "</style>\n",
       "<table border=\"1\" class=\"dataframe\">\n",
       "  <thead>\n",
       "    <tr style=\"text-align: right;\">\n",
       "      <th></th>\n",
       "      <th>PassengerId</th>\n",
       "      <th>Survived</th>\n",
       "      <th>Pclass</th>\n",
       "      <th>Name</th>\n",
       "      <th>Sex</th>\n",
       "      <th>Age</th>\n",
       "      <th>SibSp</th>\n",
       "      <th>Parch</th>\n",
       "      <th>Ticket</th>\n",
       "      <th>Fare</th>\n",
       "      <th>Cabin</th>\n",
       "      <th>Embarked</th>\n",
       "    </tr>\n",
       "  </thead>\n",
       "  <tbody>\n",
       "    <tr>\n",
       "      <th>0</th>\n",
       "      <td>1</td>\n",
       "      <td>0</td>\n",
       "      <td>3</td>\n",
       "      <td>Braund, Mr. Owen Harris</td>\n",
       "      <td>male</td>\n",
       "      <td>22.0</td>\n",
       "      <td>1</td>\n",
       "      <td>0</td>\n",
       "      <td>A/5 21171</td>\n",
       "      <td>7.2500</td>\n",
       "      <td>NaN</td>\n",
       "      <td>S</td>\n",
       "    </tr>\n",
       "    <tr>\n",
       "      <th>1</th>\n",
       "      <td>2</td>\n",
       "      <td>1</td>\n",
       "      <td>1</td>\n",
       "      <td>Cumings, Mrs. John Bradley (Florence Briggs Th...</td>\n",
       "      <td>female</td>\n",
       "      <td>38.0</td>\n",
       "      <td>1</td>\n",
       "      <td>0</td>\n",
       "      <td>PC 17599</td>\n",
       "      <td>71.2833</td>\n",
       "      <td>C85</td>\n",
       "      <td>C</td>\n",
       "    </tr>\n",
       "    <tr>\n",
       "      <th>2</th>\n",
       "      <td>3</td>\n",
       "      <td>1</td>\n",
       "      <td>3</td>\n",
       "      <td>Heikkinen, Miss. Laina</td>\n",
       "      <td>female</td>\n",
       "      <td>26.0</td>\n",
       "      <td>0</td>\n",
       "      <td>0</td>\n",
       "      <td>STON/O2. 3101282</td>\n",
       "      <td>7.9250</td>\n",
       "      <td>NaN</td>\n",
       "      <td>S</td>\n",
       "    </tr>\n",
       "  </tbody>\n",
       "</table>\n",
       "</div>"
      ],
      "text/plain": [
       "   PassengerId  Survived  Pclass  \\\n",
       "0            1         0       3   \n",
       "1            2         1       1   \n",
       "2            3         1       3   \n",
       "\n",
       "                                                Name     Sex   Age  SibSp  \\\n",
       "0                            Braund, Mr. Owen Harris    male  22.0      1   \n",
       "1  Cumings, Mrs. John Bradley (Florence Briggs Th...  female  38.0      1   \n",
       "2                             Heikkinen, Miss. Laina  female  26.0      0   \n",
       "\n",
       "   Parch            Ticket     Fare Cabin Embarked  \n",
       "0      0         A/5 21171   7.2500   NaN        S  \n",
       "1      0          PC 17599  71.2833   C85        C  \n",
       "2      0  STON/O2. 3101282   7.9250   NaN        S  "
      ]
     },
     "execution_count": 4,
     "metadata": {},
     "output_type": "execute_result"
    }
   ],
   "source": [
    "ds.head(3)"
   ]
  },
  {
   "cell_type": "code",
   "execution_count": 7,
   "id": "8ff2a27c-b328-4cad-8e7b-fdc05657e1a6",
   "metadata": {},
   "outputs": [
    {
     "data": {
      "image/png": "[encoded data removed]",
      "text/plain": [
       "<Figure size 640x480 with 1 Axes>"
      ]
     },
     "metadata": {},
     "output_type": "display_data"
    }
   ],
   "source": [
    "sns.histplot(x=\"Age\",data =ds)\n",
    "plt.show()"
   ]
  },
  {
   "cell_type": "code",
   "execution_count": 8,
   "id": "b1432171-1482-4a5d-9180-9a9899caacdf",
   "metadata": {},
   "outputs": [
    {
     "data": {
      "text/plain": [
       "0.38910778230082704"
      ]
     },
     "execution_count": 8,
     "metadata": {},
     "output_type": "execute_result"
    }
   ],
   "source": [
    "ds[\"Age\"].skew()"
   ]
  },
  {
   "cell_type": "raw",
   "id": "8bde0b9a-5776-44e2-9e1e-dddce04be7b1",
   "metadata": {},
   "source": [
    "if skew < 1 :\n",
    "    then it is positve skew \n",
    "if skew > 1\n",
    "    then it is negatibe skew\n"
   ]
  },
  {
   "cell_type": "code",
   "execution_count": 32,
   "id": "3e47eef1-160e-4a69-b98a-6995ec0e811f",
   "metadata": {},
   "outputs": [
    {
     "data": {
      "text/plain": [
       "(29.69911764705882, 28.0, 24.0)"
      ]
     },
     "execution_count": 32,
     "metadata": {},
     "output_type": "execute_result"
    }
   ],
   "source": [
    "ds[\"Age\"].mean(),ds[\"Age\"].median(), ds[\"Age\"].mode()[0]"
   ]
  },
  {
   "cell_type": "raw",
   "id": "daa9bc7a-c069-411d-8beb-25da2ec36df7",
   "metadata": {},
   "source": [
    "for this datasets : mean > median > mode . so it is a positive skew"
   ]
  },
  {
   "cell_type": "code",
   "execution_count": 35,
   "id": "a618cf24-81a9-4340-be47-126d1ac5d8b3",
   "metadata": {},
   "outputs": [],
   "source": [
    "data = [2,3,3,4,4,4,5,5,5,5,6,6,6,6,6,7,7,7,7,7,7,8,8,8,8,8,9,9,9,9,10,10,10,11,11,12]\n",
    "df = pd.DataFrame({\"x\":data})"
   ]
  },
  {
   "cell_type": "code",
   "execution_count": 36,
   "id": "961367f9-8b2c-4118-b9d5-6fd7046e3510",
   "metadata": {},
   "outputs": [
    {
     "data": {
      "text/html": [
       "<div>\n",
       "<style scoped>\n",
       "    .dataframe tbody tr th:only-of-type {\n",
       "        vertical-align: middle;\n",
       "    }\n",
       "\n",
       "    .dataframe tbody tr th {\n",
       "        vertical-align: top;\n",
       "    }\n",
       "\n",
       "    .dataframe thead th {\n",
       "        text-align: right;\n",
       "    }\n",
       "</style>\n",
       "<table border=\"1\" class=\"dataframe\">\n",
       "  <thead>\n",
       "    <tr style=\"text-align: right;\">\n",
       "      <th></th>\n",
       "      <th>x</th>\n",
       "    </tr>\n",
       "  </thead>\n",
       "  <tbody>\n",
       "    <tr>\n",
       "      <th>0</th>\n",
       "      <td>2</td>\n",
       "    </tr>\n",
       "    <tr>\n",
       "      <th>1</th>\n",
       "      <td>3</td>\n",
       "    </tr>\n",
       "    <tr>\n",
       "      <th>2</th>\n",
       "      <td>3</td>\n",
       "    </tr>\n",
       "    <tr>\n",
       "      <th>3</th>\n",
       "      <td>4</td>\n",
       "    </tr>\n",
       "  </tbody>\n",
       "</table>\n",
       "</div>"
      ],
      "text/plain": [
       "   x\n",
       "0  2\n",
       "1  3\n",
       "2  3\n",
       "3  4"
      ]
     },
     "execution_count": 36,
     "metadata": {},
     "output_type": "execute_result"
    }
   ],
   "source": [
    "df.head(4)"
   ]
  },
  {
   "cell_type": "code",
   "execution_count": 37,
   "id": "fff07d7a-b4b2-4902-94c0-ee6785c9d662",
   "metadata": {},
   "outputs": [
    {
     "data": {
      "text/plain": [
       "0.0"
      ]
     },
     "execution_count": 37,
     "metadata": {},
     "output_type": "execute_result"
    }
   ],
   "source": [
    "df[\"x\"].skew()"
   ]
  },
  {
   "cell_type": "code",
   "execution_count": 38,
   "id": "86030aa6-081a-4c35-8b23-58ae82aca275",
   "metadata": {},
   "outputs": [
    {
     "data": {
      "image/png": "[encoded data removed]",
      "text/plain": [
       "<Figure size 640x480 with 1 Axes>"
      ]
     },
     "metadata": {},
     "output_type": "display_data"
    }
   ],
   "source": [
    "sns.histplot(x=\"x\",data=df,bins=[2,3,4,5,6,7,8,9,10,11,12,13])\n",
    "plt.show()"
   ]
  },
  {
   "cell_type": "code",
   "execution_count": 39,
   "id": "613c1fef-c062-4f9b-8e80-c711c27b2f49",
   "metadata": {},
   "outputs": [
    {
     "data": {
      "text/plain": [
       "mean      7.0\n",
       "median    7.0\n",
       "Name: x, dtype: float64"
      ]
     },
     "execution_count": 39,
     "metadata": {},
     "output_type": "execute_result"
    }
   ],
   "source": [
    "df[\"x\"].agg([\"mean\", \"median\"])\n"
   ]
  },
  {
   "cell_type": "code",
   "execution_count": 40,
   "id": "730203a7-0c7f-42a3-98fc-614a673e651c",
   "metadata": {},
   "outputs": [
    {
     "data": {
      "text/plain": [
       "7"
      ]
     },
     "execution_count": 40,
     "metadata": {},
     "output_type": "execute_result"
    }
   ],
   "source": [
    "df[\"x\"].mode()[0]\n"
   ]
  },
  {
   "cell_type": "raw",
   "id": "d925cd8a-161c-47a4-8aa0-59b58133ff7b",
   "metadata": {},
   "source": [
    "in here : mean = mode = median . so this is an example of symmetrical data"
   ]
  },
  {
   "cell_type": "code",
   "execution_count": null,
   "id": "a347f415-9cde-4542-adfb-0bd8e6276448",
   "metadata": {},
   "outputs": [],
   "source": []
  }
 ],
 "metadata": {
  "kernelspec": {
   "display_name": "Python 3 (ipykernel)",
   "language": "python",
   "name": "python3"
  },
  "language_info": {
   "codemirror_mode": {
    "name": "ipython",
    "version": 3
   },
   "file_extension": ".py",
   "mimetype": "text/x-python",
   "name": "python",
   "nbconvert_exporter": "python",
   "pygments_lexer": "ipython3",
   "version": "3.12.4"
  }
 },
 "nbformat": 4,
 "nbformat_minor": 5
}
