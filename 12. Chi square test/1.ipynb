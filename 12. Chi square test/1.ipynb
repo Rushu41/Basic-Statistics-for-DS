{
 "cells": [
  {
   "cell_type": "code",
   "execution_count": null,
   "id": "c10eff82-301b-42af-a1f3-c60c2b3d8844",
   "metadata": {},
   "outputs": [],
   "source": [
    "\"\"\"\n",
    "The Chi-square test is a statistical method used to determine if there's a significant association between two categorical variables.\n",
    "It compares the expected frequencies (values you would expect to get if there were no relationship) \n",
    "with the observed frequencies (the actual values you observe).\n",
    "\n",
    "Steps for performing the Chi-square test:\n",
    "State the hypothesis:\n",
    "\n",
    "Null hypothesis (𝐻0): There is no association between the variables.\n",
    "Alternative hypothesis (𝐻1): There is an association between the variables.\n",
    "Create a contingency table (a table showing the frequencies of different categories).\n",
    "\n",
    "Calculate the expected frequencies using the formula:\n",
    "\n",
    "E = (row total×column total)/grand total\n",
    "​\n",
    " \n",
    "Calculate the Chi-square statistic:\n",
    "\n",
    "x^2=∑ (O−E)^2 /E\n",
    "\n",
    "where:\n",
    "O = Observed frequency\n",
    "E = Expected frequency\n",
    "Compare the calculated Chi-square value with the critical value from the Chi-square distribution table \n",
    "based on the significance level and degrees of freedom.\n",
    "\"\"\""
   ]
  },
  {
   "cell_type": "code",
   "execution_count": null,
   "id": "e6bcd59d-e1df-4457-b0d2-5fc5d6c1351a",
   "metadata": {},
   "outputs": [],
   "source": [
    "\"\"\"\n",
    "Example 1:\n",
    "\n",
    "A fair die is rolled 120 times and the following results are obtained:\n",
    "\n",
    "Face 1: 22 times\n",
    "Face 2: 17 times\n",
    "Face 3: 20 times\n",
    "Face 4: 26 times\n",
    "Face 5: 22 times\n",
    "Face 6: 13 times\n",
    "\n",
    "Test at a 5% level of significance whether the die is fair.\n",
    "\"\"\""
   ]
  },
  {
   "cell_type": "code",
   "execution_count": 1,
   "id": "b68f3ee6-e682-40f1-971d-ad7723d43b72",
   "metadata": {},
   "outputs": [],
   "source": [
    "import numpy as np\n",
    "import scipy.stats as st"
   ]
  },
  {
   "cell_type": "code",
   "execution_count": 2,
   "id": "ccc49d74-01e1-406c-a402-ff3546eed7ea",
   "metadata": {},
   "outputs": [],
   "source": [
    "# H0 -> die is fair\n",
    "# Ha -> die is not fair\n",
    "ob = np.array([22,17,20,26,22,13])\n",
    "ex = np.array([20,20,20,20,20,20])\n",
    "df = 6 - 1\n",
    "#from chi table \n",
    "chi_table = 11.04"
   ]
  },
  {
   "cell_type": "code",
   "execution_count": 4,
   "id": "5c793999-d694-4202-992b-30ad806efd18",
   "metadata": {},
   "outputs": [
    {
     "data": {
      "text/plain": [
       "5.1000000000000005"
      ]
     },
     "execution_count": 4,
     "metadata": {},
     "output_type": "execute_result"
    }
   ],
   "source": [
    "chi = np.sum(np.square(ob-ex)/ex)\n",
    "chi"
   ]
  },
  {
   "cell_type": "code",
   "execution_count": null,
   "id": "57c8105d-3734-4954-8bcc-aee6be2f195c",
   "metadata": {},
   "outputs": [],
   "source": [
    "\"\"\"\n",
    "chi_table > chi\n",
    "so H0 is true \n",
    "\"\"\""
   ]
  },
  {
   "cell_type": "markdown",
   "id": "71711086-6e05-496f-9c43-f0d33b8a241d",
   "metadata": {},
   "source": [
    "![](2.png)"
   ]
  },
  {
   "cell_type": "code",
   "execution_count": 28,
   "id": "257353eb-949e-4fd6-b5b3-c657f868201f",
   "metadata": {},
   "outputs": [],
   "source": [
    "# H0 -> no association\n",
    "# Ha -> diff association \n",
    "# df = (row-1)(col-1)\n",
    "\n",
    "df = (2-1)*(4-1)\n",
    "#from chi table \n",
    "chi1_table = 7.815"
   ]
  },
  {
   "cell_type": "code",
   "execution_count": 17,
   "id": "5f117555-2c53-4060-93ce-3d57422152d0",
   "metadata": {},
   "outputs": [
    {
     "data": {
      "text/plain": [
       "(120, 115, array([75, 75, 45, 40]), array([120, 115]))"
      ]
     },
     "execution_count": 17,
     "metadata": {},
     "output_type": "execute_result"
    }
   ],
   "source": [
    "row1 = np.array([40,45,25,10])\n",
    "row2 = np.array([35,30,20,30])\n",
    "sum_r1 = np.sum(row1)\n",
    "sum_r2 = np.sum(row2)\n",
    "sum_col = row1 + row2\n",
    "sum_row = np.array([sum_r1,sum_r2])\n",
    "sum_r1,sum_r2,sum_col,sum_row"
   ]
  },
  {
   "cell_type": "code",
   "execution_count": 20,
   "id": "2e70a919-c1c8-4eb7-a925-ec858c5d8be7",
   "metadata": {},
   "outputs": [
    {
     "data": {
      "text/plain": [
       "[38.297872340425535,\n",
       " 38.297872340425535,\n",
       " 22.97872340425532,\n",
       " 20.425531914893618,\n",
       " 36.702127659574465,\n",
       " 36.702127659574465,\n",
       " 22.02127659574468,\n",
       " 19.574468085106382]"
      ]
     },
     "execution_count": 20,
     "metadata": {},
     "output_type": "execute_result"
    }
   ],
   "source": [
    "exp = []\n",
    "for i in sum_row:\n",
    "    for j in sum_col:\n",
    "        val = (i*j)/235\n",
    "        exp.append(val)\n",
    "\n",
    "exp"
   ]
  },
  {
   "cell_type": "code",
   "execution_count": 22,
   "id": "bea46848-428b-49e8-8463-8e94e22da592",
   "metadata": {},
   "outputs": [],
   "source": [
    "obs = np.array([40,45,25,10,35,30,20,30])"
   ]
  },
  {
   "cell_type": "code",
   "execution_count": 27,
   "id": "55cf0f0f-2f19-49d4-ba39-0ac14f437c36",
   "metadata": {},
   "outputs": [
    {
     "data": {
      "text/plain": [
       "13.788747987117553"
      ]
     },
     "execution_count": 27,
     "metadata": {},
     "output_type": "execute_result"
    }
   ],
   "source": [
    "chi1 = np.sum((np.square(obs - exp))/exp)\n",
    "chi1"
   ]
  },
  {
   "cell_type": "code",
   "execution_count": null,
   "id": "a5989200-ba43-45d9-86ea-2d1e08b760e2",
   "metadata": {},
   "outputs": [],
   "source": [
    "\"\"\"\n",
    "chi1 > chi1_table \n",
    "So Ha is true\n",
    "\"\"\""
   ]
  }
 ],
 "metadata": {
  "kernelspec": {
   "display_name": "Python 3 (ipykernel)",
   "language": "python",
   "name": "python3"
  },
  "language_info": {
   "codemirror_mode": {
    "name": "ipython",
    "version": 3
   },
   "file_extension": ".py",
   "mimetype": "text/x-python",
   "name": "python",
   "nbconvert_exporter": "python",
   "pygments_lexer": "ipython3",
   "version": "3.12.4"
  }
 },
 "nbformat": 4,
 "nbformat_minor": 5
}
