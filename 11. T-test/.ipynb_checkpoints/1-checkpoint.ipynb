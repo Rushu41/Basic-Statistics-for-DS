{
 "cells": [
  {
   "cell_type": "code",
   "execution_count": null,
   "id": "ff4260a8-f1b1-4cb7-8ff6-f74df4acfe01",
   "metadata": {},
   "outputs": [],
   "source": [
    "\"\"\"\n",
    "when to use T test:\n",
    "1. if population std and mean is given\n",
    "2. sample size < 30\n",
    "\"\"\""
   ]
  },
  {
   "cell_type": "markdown",
   "id": "bde902e4-9679-46ee-b229-e38437a2e746",
   "metadata": {},
   "source": [
    "![](2.png)"
   ]
  },
  {
   "cell_type": "code",
   "execution_count": null,
   "id": "df8ae8b6-a7d6-45a7-9846-7214ffbd9395",
   "metadata": {},
   "outputs": [],
   "source": [
    "\"\"\"\n",
    "Example 01:\n",
    "A manufacturer claims that the average weight of a bag of potato chips is 150grams. A sample of 25 bags is taken, and the average \n",
    "weight is found to be 148grams , with a standard deviation 0f 5grams . Test the manufacturer's claim using a one-tailed t-test with a significance \n",
    "level of 0.05.\n",
    "\"\"\""
   ]
  },
  {
   "cell_type": "code",
   "execution_count": 13,
   "id": "71b780b1-2cd9-458d-842f-45e8b75fa3d1",
   "metadata": {},
   "outputs": [
    {
     "data": {
      "text/plain": [
       "-1.7108820799094282"
      ]
     },
     "execution_count": 13,
     "metadata": {},
     "output_type": "execute_result"
    }
   ],
   "source": [
    "# H0 -> 𝜇 = 150gm\n",
    "#Ha -> 𝜇 < 150gm\n",
    "import scipy.stats as st\n",
    "import numpy as np\n",
    "#degree of freedom df = n-1\n",
    "df = 24\n",
    "#finding Z value usinf alpha (α)\n",
    "t_table = st.t.ppf(0.05,24)\n",
    "t_table\n"
   ]
  },
  {
   "cell_type": "code",
   "execution_count": 14,
   "id": "31118489-8a2a-48a3-ba51-ff8e669dce60",
   "metadata": {},
   "outputs": [
    {
     "data": {
      "text/plain": [
       "-2.0"
      ]
     },
     "execution_count": 14,
     "metadata": {},
     "output_type": "execute_result"
    }
   ],
   "source": [
    "#sample mean\n",
    "x = 148\n",
    "# population mean\n",
    "u = 150\n",
    "#population std\n",
    "pop_std = 5\n",
    "#sample size\n",
    "n = 25\n",
    "\n",
    "t = (x-u)/(pop_std/np.sqrt(n))\n",
    "t"
   ]
  },
  {
   "cell_type": "code",
   "execution_count": 15,
   "id": "e398b0e2-377f-4c55-9c80-bd681d67ccd9",
   "metadata": {},
   "outputs": [
    {
     "name": "stdout",
     "output_type": "stream",
     "text": [
      "Ha is right\n"
     ]
    }
   ],
   "source": [
    "if t_table > t :\n",
    "    print(\"Ha is right\")\n",
    "else:\n",
    "    print(\"H0 is right\")"
   ]
  },
  {
   "cell_type": "code",
   "execution_count": null,
   "id": "4d8d597e-d717-45b6-81d3-03f14089b3da",
   "metadata": {},
   "outputs": [],
   "source": [
    "\"\"\"\n",
    "Example 2:\n",
    "A company wants to test whether there is a difference in productivity between two teams. \n",
    "They randomly select 20 employees from each team and record their productivity scores. The mean productivity score for \n",
    "Team A is 80 with a standard deviation of 5, while the mean productivity score for Team B is 75 with a standard deviation of 6.\n",
    "Test at a 5% level of significance whether there is a difference in productivity between the two teams\n",
    "\"\"\""
   ]
  },
  {
   "cell_type": "markdown",
   "id": "0930a53c-0fff-45e9-9f29-5f4957c94c7e",
   "metadata": {},
   "source": [
    "![](3.png)"
   ]
  },
  {
   "cell_type": "markdown",
   "id": "77541cdb-4ef7-4334-b5c5-2349921f5b61",
   "metadata": {},
   "source": [
    "![](4.png)"
   ]
  },
  {
   "cell_type": "code",
   "execution_count": 16,
   "id": "df0bd1cb-2fb6-4095-812f-0fe9d4d0abd2",
   "metadata": {},
   "outputs": [
    {
     "data": {
      "text/plain": [
       "2.024394163911969"
      ]
     },
     "execution_count": 16,
     "metadata": {},
     "output_type": "execute_result"
    }
   ],
   "source": [
    "# H0 -> mean_productA - mean_productB = 0\n",
    "# Ha -> mean_productA - mean_productA != 0\n",
    "df = 20 + 20 - 1 - 1\n",
    "#for positive side\n",
    "t1_table = st.t.ppf(1-0.025,df)\n",
    "t1_table"
   ]
  },
  {
   "cell_type": "code",
   "execution_count": 17,
   "id": "81caba81-9cf6-41f6-b828-365a34af7ff6",
   "metadata": {},
   "outputs": [
    {
     "data": {
      "text/plain": [
       "2.862991671569341"
      ]
     },
     "execution_count": 17,
     "metadata": {},
     "output_type": "execute_result"
    }
   ],
   "source": [
    "mean_A = 80\n",
    "mean_B = 75\n",
    "s1 = 5\n",
    "s2 = 6\n",
    "n = 20\n",
    "\n",
    "t_cal = (mean_A - mean_B)/np.sqrt((s1*s1/n)+(s2*s2/n))\n",
    "t_cal"
   ]
  },
  {
   "cell_type": "code",
   "execution_count": 19,
   "id": "00389bd2-c9b3-4499-8e2e-717e68e615f2",
   "metadata": {},
   "outputs": [
    {
     "name": "stdout",
     "output_type": "stream",
     "text": [
      "Ha is right\n"
     ]
    }
   ],
   "source": [
    "if t1_table < t_cal :\n",
    "    print(\"Ha is right\")\n",
    "else:\n",
    "    print(\"H0 is right\")"
   ]
  },
  {
   "cell_type": "code",
   "execution_count": null,
   "id": "7236f2b0-19a1-4a44-bf65-ddf5457e5537",
   "metadata": {},
   "outputs": [],
   "source": [
    "\"\"\"\n",
    "Example 3:\n",
    "A company wants to test whether a new training program improves the typing speed of its employees. \n",
    "The typing speed of 20 employees was recorded before and after the training program. The data is given below. \n",
    "Test at a 5% level of significance whether the training program has an effect on the typing speed of the employees.\n",
    "\n",
    "Before = [50,60,45,65,55,70,40,75,80,65,70,60,50,55,45,75,60,50,65,70]\n",
    "After =  [60,70,55,75,65,80,50,85,90,70,75,65,55,60,50,80,65,55,70,75]\n",
    "\"\"\""
   ]
  },
  {
   "cell_type": "code",
   "execution_count": 20,
   "id": "4ecc8cab-e0e3-45c8-95fc-15f3c2411c90",
   "metadata": {},
   "outputs": [
    {
     "data": {
      "text/plain": [
       "1.729132811521367"
      ]
     },
     "execution_count": 20,
     "metadata": {},
     "output_type": "execute_result"
    }
   ],
   "source": [
    "df1 = 20 - 1\n",
    "t2_table = st.t.ppf(1-0.05,df1)\n",
    "t2_table"
   ]
  },
  {
   "cell_type": "code",
   "execution_count": 21,
   "id": "746dc72a-e6ff-4e1f-a645-37126bab408e",
   "metadata": {},
   "outputs": [],
   "source": [
    "Before = np.array([50,60,45,65,55,70,40,75,80,65,70,60,50,55,45,75,60,50,65,70])\n",
    "After =  np.array([60,70,55,75,65,80,50,85,90,70,75,65,55,60,50,80,65,55,70,75])"
   ]
  },
  {
   "cell_type": "code",
   "execution_count": 22,
   "id": "bfaddacc-6af7-4025-9150-38655cce3049",
   "metadata": {},
   "outputs": [],
   "source": [
    "std_a = np.std(After)\n",
    "std_b = np.std(Before)\n",
    "mean_a = np.mean(After)\n",
    "mean_b = np.mean(Before)"
   ]
  },
  {
   "cell_type": "code",
   "execution_count": 23,
   "id": "269db997-b340-4f9e-bbcb-86a78a869285",
   "metadata": {},
   "outputs": [
    {
     "data": {
      "text/plain": [
       "2.061200527128206"
      ]
     },
     "execution_count": 23,
     "metadata": {},
     "output_type": "execute_result"
    }
   ],
   "source": [
    "t2_cal = (mean_a - mean_b)/np.sqrt((std_a*std_a/len(After))+(std_b*std_b/len(Before)))\n",
    "t2_cal"
   ]
  },
  {
   "cell_type": "code",
   "execution_count": 24,
   "id": "40b35d70-d945-4b49-97d5-1b7cbd3ebd38",
   "metadata": {},
   "outputs": [
    {
     "name": "stdout",
     "output_type": "stream",
     "text": [
      "Ha is right\n"
     ]
    }
   ],
   "source": [
    "if t2_table < t2_cal :\n",
    "    print(\"Ha is right\")\n",
    "else:\n",
    "    print(\"H0 is right\")"
   ]
  },
  {
   "cell_type": "code",
   "execution_count": null,
   "id": "1854ee28-a27e-4631-8da3-bd3e509b1319",
   "metadata": {},
   "outputs": [],
   "source": []
  }
 ],
 "metadata": {
  "kernelspec": {
   "display_name": "Python 3 (ipykernel)",
   "language": "python",
   "name": "python3"
  },
  "language_info": {
   "codemirror_mode": {
    "name": "ipython",
    "version": 3
   },
   "file_extension": ".py",
   "mimetype": "text/x-python",
   "name": "python",
   "nbconvert_exporter": "python",
   "pygments_lexer": "ipython3",
   "version": "3.12.4"
  }
 },
 "nbformat": 4,
 "nbformat_minor": 5
}
