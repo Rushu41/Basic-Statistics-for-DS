{
 "cells": [
  {
   "cell_type": "raw",
   "id": "49992555-325d-4c17-a870-afad1dda8c1a",
   "metadata": {},
   "source": [
    "Covariance:\n",
    "it signifies the direction of the linear relationship between two variables . By direction we mean\n",
    "if the variables are directly propotional or inversely propotional to each other.\n",
    "\n",
    "increasing the value of one variable might have a posiive or negative impact on the value of the other variable.\n",
    "\n",
    "Positive Covariance → If Cov(X, Y) > 0, it means that as X increases, Y also increases (positive relationship).\n",
    "Negative Covariance → If Cov(X, Y) < 0, it means that as X increases, Y decreases (negative relationship).\n",
    "Zero Covariance → If Cov(X, Y) = 0, it means there is no linear relationship between X and Y."
   ]
  },
  {
   "cell_type": "raw",
   "id": "b8738fbd-d2a0-4b81-8020-6214f7c146f1",
   "metadata": {},
   "source": [
    "Corelation:\n",
    "Correlation is a statistical measure that describes the strength and direction of a relationship between two variables. It helps determine whether an increase or decrease in one variable is associated with an increase or decrease in another variable.\n",
    "\n",
    "Positive Correlation:\n",
    "A positive correlation occurs when two variables move in the same direction. That means if one variable increases, the other also increases, and if one decreases, the other also decreases.\n",
    "\n",
    "🔹 Example: The relationship between study time and exam scores—more study time generally leads to higher scores.\n",
    "\n",
    "Negative Correlation:\n",
    "A negative correlation occurs when two variables move in opposite directions. That means if one variable increases, the other decreases, and vice versa.\n",
    "\n",
    "🔹 Example: The relationship between time spent watching TV and exam scores—more TV time might lead to lower scores.\n",
    "\n",
    "In statistics, correlation is measured using the correlation coefficient (r), which ranges from -1 to +1:\n",
    "\n",
    "+1 → Perfect positive correlation\n",
    "0 → No correlation\n",
    "-1 → Perfect negative correlation"
   ]
  },
  {
   "cell_type": "markdown",
   "id": "d2589c00-d4ce-40dd-a224-71d433fd6dd5",
   "metadata": {},
   "source": [
    "![](cor.png)"
   ]
  },
  {
   "cell_type": "raw",
   "id": "a6d4f3e9-7205-4159-b9e7-82d7a96ac79e",
   "metadata": {},
   "source": [
    "Covariance vs Correlation \n",
    "Covariance measures how two variables move together. If one increases when the other increases, covariance is positive.\n",
    "If one increases while the other decreases, covariance is negative. However, its value depends on the scale of the data,\n",
    "making it difficult to interpret directly.\n",
    "\n",
    "Correlation standardizes covariance by dividing it by the product of the standard deviations of both variables.\n",
    "This makes correlation a dimensionless measure, always between -1 and +1, making it easier to compare relationships.\n",
    "\n",
    "Key Differences:\n",
    "Covariance gives direction but no clear strength.\n",
    "Correlation gives both direction and strength of the relationship.\n",
    "Covariance has no fixed range, while correlation is always between -1 and +1.\n",
    "Correlation is a scaled version of covariance, making it more useful for analysis."
   ]
  },
  {
   "cell_type": "raw",
   "id": "64b777b9-b4c7-4fbf-bc80-a07a9d6659ab",
   "metadata": {},
   "source": [
    "Positive Correlation (r > 0)\n",
    "0.0 to +0.3 → Weak Positive (very little relationship)\n",
    "+0.3 to +0.7 → Moderate Positive (some relationship)\n",
    "+0.7 to +0.9 → Strong Positive (significant relationship)\n",
    "+0.9 to +1.0 → Very Strong Positive (almost perfect relationship)\n",
    "\n",
    "Negative Correlation (r < 0)\n",
    "0.0 to -0.3 → Weak Negative (very little relationship)\n",
    "-0.3 to -0.7 → Moderate Negative (some relationship)\n",
    "-0.7 to -0.9 → Strong Negative (significant relationship)\n",
    "-0.9 to -1.0 → Very Strong Negative (almost perfect inverse relationship)"
   ]
  },
  {
   "cell_type": "code",
   "execution_count": 2,
   "id": "e4f06b28-c150-40bf-8881-128b527ee63b",
   "metadata": {},
   "outputs": [],
   "source": [
    "import pandas as pd\n",
    "import numpy as np\n",
    "import matplotlib.pyplot as plt\n",
    "import seaborn as sns"
   ]
  },
  {
   "cell_type": "code",
   "execution_count": 3,
   "id": "94ddf5f6-5e17-4f37-92a2-2a4e5b536c97",
   "metadata": {},
   "outputs": [],
   "source": [
    "ds = pd.read_csv(\"tips.csv\")"
   ]
  },
  {
   "cell_type": "code",
   "execution_count": 4,
   "id": "9b6c43b3-7247-4597-b720-06c0ce20eb0b",
   "metadata": {},
   "outputs": [
    {
     "data": {
      "text/html": [
       "<div>\n",
       "<style scoped>\n",
       "    .dataframe tbody tr th:only-of-type {\n",
       "        vertical-align: middle;\n",
       "    }\n",
       "\n",
       "    .dataframe tbody tr th {\n",
       "        vertical-align: top;\n",
       "    }\n",
       "\n",
       "    .dataframe thead th {\n",
       "        text-align: right;\n",
       "    }\n",
       "</style>\n",
       "<table border=\"1\" class=\"dataframe\">\n",
       "  <thead>\n",
       "    <tr style=\"text-align: right;\">\n",
       "      <th></th>\n",
       "      <th>Unnamed: 0</th>\n",
       "      <th>person</th>\n",
       "      <th>total</th>\n",
       "      <th>cuisine</th>\n",
       "      <th>restaurant</th>\n",
       "      <th>sitting_time</th>\n",
       "      <th>payment_type</th>\n",
       "      <th>tips</th>\n",
       "    </tr>\n",
       "  </thead>\n",
       "  <tbody>\n",
       "    <tr>\n",
       "      <th>0</th>\n",
       "      <td>0</td>\n",
       "      <td>2</td>\n",
       "      <td>819</td>\n",
       "      <td>vegetarian</td>\n",
       "      <td>Restaurant_5</td>\n",
       "      <td>142min</td>\n",
       "      <td>credit_card</td>\n",
       "      <td>125</td>\n",
       "    </tr>\n",
       "    <tr>\n",
       "      <th>1</th>\n",
       "      <td>1</td>\n",
       "      <td>3</td>\n",
       "      <td>1011</td>\n",
       "      <td>chinese</td>\n",
       "      <td>Restaurant_3</td>\n",
       "      <td>54min</td>\n",
       "      <td>credit_card</td>\n",
       "      <td>145</td>\n",
       "    </tr>\n",
       "    <tr>\n",
       "      <th>2</th>\n",
       "      <td>2</td>\n",
       "      <td>6</td>\n",
       "      <td>4224</td>\n",
       "      <td>kebab</td>\n",
       "      <td>Restaurant_9</td>\n",
       "      <td>112min</td>\n",
       "      <td>cash</td>\n",
       "      <td>330</td>\n",
       "    </tr>\n",
       "  </tbody>\n",
       "</table>\n",
       "</div>"
      ],
      "text/plain": [
       "   Unnamed: 0  person  total     cuisine    restaurant sitting_time  \\\n",
       "0           0       2    819  vegetarian  Restaurant_5       142min   \n",
       "1           1       3   1011     chinese  Restaurant_3        54min   \n",
       "2           2       6   4224       kebab  Restaurant_9       112min   \n",
       "\n",
       "  payment_type  tips  \n",
       "0  credit_card   125  \n",
       "1  credit_card   145  \n",
       "2         cash   330  "
      ]
     },
     "execution_count": 4,
     "metadata": {},
     "output_type": "execute_result"
    }
   ],
   "source": [
    "ds.head(3)"
   ]
  },
  {
   "cell_type": "code",
   "execution_count": 5,
   "id": "d727a49e-21fd-41ad-815a-44c0a02fb721",
   "metadata": {},
   "outputs": [
    {
     "data": {
      "text/plain": [
       "Unnamed: 0      0\n",
       "person          0\n",
       "total           0\n",
       "cuisine         0\n",
       "restaurant      0\n",
       "sitting_time    0\n",
       "payment_type    0\n",
       "tips            0\n",
       "dtype: int64"
      ]
     },
     "execution_count": 5,
     "metadata": {},
     "output_type": "execute_result"
    }
   ],
   "source": [
    "ds.isnull().sum()"
   ]
  },
  {
   "cell_type": "code",
   "execution_count": 11,
   "id": "b934f3ba-f3e5-4165-85b6-050a3ed1f5cf",
   "metadata": {},
   "outputs": [
    {
     "name": "stdout",
     "output_type": "stream",
     "text": [
      "<class 'pandas.core.frame.DataFrame'>\n",
      "RangeIndex: 500 entries, 0 to 499\n",
      "Data columns (total 8 columns):\n",
      " #   Column        Non-Null Count  Dtype \n",
      "---  ------        --------------  ----- \n",
      " 0   Unnamed: 0    500 non-null    int64 \n",
      " 1   person        500 non-null    int64 \n",
      " 2   total         500 non-null    int64 \n",
      " 3   cuisine       500 non-null    object\n",
      " 4   restaurant    500 non-null    object\n",
      " 5   sitting_time  500 non-null    object\n",
      " 6   payment_type  500 non-null    object\n",
      " 7   tips          500 non-null    int64 \n",
      "dtypes: int64(4), object(4)\n",
      "memory usage: 31.4+ KB\n"
     ]
    }
   ],
   "source": [
    "ds.info()"
   ]
  },
  {
   "cell_type": "code",
   "execution_count": 14,
   "id": "dfa069da-3e57-4077-88c5-3c4f95c3f768",
   "metadata": {},
   "outputs": [
    {
     "data": {
      "text/html": [
       "<div>\n",
       "<style scoped>\n",
       "    .dataframe tbody tr th:only-of-type {\n",
       "        vertical-align: middle;\n",
       "    }\n",
       "\n",
       "    .dataframe tbody tr th {\n",
       "        vertical-align: top;\n",
       "    }\n",
       "\n",
       "    .dataframe thead th {\n",
       "        text-align: right;\n",
       "    }\n",
       "</style>\n",
       "<table border=\"1\" class=\"dataframe\">\n",
       "  <thead>\n",
       "    <tr style=\"text-align: right;\">\n",
       "      <th></th>\n",
       "      <th>Unnamed: 0</th>\n",
       "      <th>person</th>\n",
       "      <th>total</th>\n",
       "      <th>tips</th>\n",
       "    </tr>\n",
       "  </thead>\n",
       "  <tbody>\n",
       "    <tr>\n",
       "      <th>Unnamed: 0</th>\n",
       "      <td>1.000000</td>\n",
       "      <td>0.013561</td>\n",
       "      <td>0.022204</td>\n",
       "      <td>-0.003503</td>\n",
       "    </tr>\n",
       "    <tr>\n",
       "      <th>person</th>\n",
       "      <td>0.013561</td>\n",
       "      <td>1.000000</td>\n",
       "      <td>0.795963</td>\n",
       "      <td>0.506644</td>\n",
       "    </tr>\n",
       "    <tr>\n",
       "      <th>total</th>\n",
       "      <td>0.022204</td>\n",
       "      <td>0.795963</td>\n",
       "      <td>1.000000</td>\n",
       "      <td>0.670835</td>\n",
       "    </tr>\n",
       "    <tr>\n",
       "      <th>tips</th>\n",
       "      <td>-0.003503</td>\n",
       "      <td>0.506644</td>\n",
       "      <td>0.670835</td>\n",
       "      <td>1.000000</td>\n",
       "    </tr>\n",
       "  </tbody>\n",
       "</table>\n",
       "</div>"
      ],
      "text/plain": [
       "            Unnamed: 0    person     total      tips\n",
       "Unnamed: 0    1.000000  0.013561  0.022204 -0.003503\n",
       "person        0.013561  1.000000  0.795963  0.506644\n",
       "total         0.022204  0.795963  1.000000  0.670835\n",
       "tips         -0.003503  0.506644  0.670835  1.000000"
      ]
     },
     "execution_count": 14,
     "metadata": {},
     "output_type": "execute_result"
    }
   ],
   "source": [
    "data_cor = ds.select_dtypes(\"int64\").corr()\n",
    "data_cor"
   ]
  },
  {
   "cell_type": "code",
   "execution_count": 15,
   "id": "718764df-d293-456b-977b-68c9fc8a3e45",
   "metadata": {},
   "outputs": [
    {
     "data": {
      "text/html": [
       "<div>\n",
       "<style scoped>\n",
       "    .dataframe tbody tr th:only-of-type {\n",
       "        vertical-align: middle;\n",
       "    }\n",
       "\n",
       "    .dataframe tbody tr th {\n",
       "        vertical-align: top;\n",
       "    }\n",
       "\n",
       "    .dataframe thead th {\n",
       "        text-align: right;\n",
       "    }\n",
       "</style>\n",
       "<table border=\"1\" class=\"dataframe\">\n",
       "  <thead>\n",
       "    <tr style=\"text-align: right;\">\n",
       "      <th></th>\n",
       "      <th>Unnamed: 0</th>\n",
       "      <th>person</th>\n",
       "      <th>total</th>\n",
       "      <th>tips</th>\n",
       "    </tr>\n",
       "  </thead>\n",
       "  <tbody>\n",
       "    <tr>\n",
       "      <th>Unnamed: 0</th>\n",
       "      <td>20875.000000</td>\n",
       "      <td>4.536072</td>\n",
       "      <td>3.483866e+03</td>\n",
       "      <td>-86.397796</td>\n",
       "    </tr>\n",
       "    <tr>\n",
       "      <th>person</th>\n",
       "      <td>4.536072</td>\n",
       "      <td>5.359756</td>\n",
       "      <td>2.001139e+03</td>\n",
       "      <td>200.247675</td>\n",
       "    </tr>\n",
       "    <tr>\n",
       "      <th>total</th>\n",
       "      <td>3483.865731</td>\n",
       "      <td>2001.138597</td>\n",
       "      <td>1.179298e+06</td>\n",
       "      <td>124371.093788</td>\n",
       "    </tr>\n",
       "    <tr>\n",
       "      <th>tips</th>\n",
       "      <td>-86.397796</td>\n",
       "      <td>200.247675</td>\n",
       "      <td>1.243711e+05</td>\n",
       "      <td>29146.338577</td>\n",
       "    </tr>\n",
       "  </tbody>\n",
       "</table>\n",
       "</div>"
      ],
      "text/plain": [
       "              Unnamed: 0       person         total           tips\n",
       "Unnamed: 0  20875.000000     4.536072  3.483866e+03     -86.397796\n",
       "person          4.536072     5.359756  2.001139e+03     200.247675\n",
       "total        3483.865731  2001.138597  1.179298e+06  124371.093788\n",
       "tips          -86.397796   200.247675  1.243711e+05   29146.338577"
      ]
     },
     "execution_count": 15,
     "metadata": {},
     "output_type": "execute_result"
    }
   ],
   "source": [
    "data_cov = ds.select_dtypes(\"int64\").cov()\n",
    "data_cov"
   ]
  },
  {
   "cell_type": "code",
   "execution_count": 18,
   "id": "59b4678f-19f2-4fb0-897d-5e083c4b95f5",
   "metadata": {},
   "outputs": [
    {
     "data": {
      "image/png": "[encoded data removed]",
      "text/plain": [
       "<Figure size 640x480 with 2 Axes>"
      ]
     },
     "metadata": {},
     "output_type": "display_data"
    }
   ],
   "source": [
    "sns.heatmap(data_cor,annot =True)\n",
    "plt.show()"
   ]
  },
  {
   "cell_type": "code",
   "execution_count": 19,
   "id": "ec1b3421-f6b1-40f0-8e85-2128702ed697",
   "metadata": {},
   "outputs": [
    {
     "data": {
      "image/png": "[encoded data removed]",
      "text/plain": [
       "<Figure size 640x480 with 2 Axes>"
      ]
     },
     "metadata": {},
     "output_type": "display_data"
    }
   ],
   "source": [
    "sns.heatmap(data_cov,annot= True)\n",
    "plt.show()"
   ]
  },
  {
   "cell_type": "code",
   "execution_count": 36,
   "id": "d57c46d2-55c4-4dab-b524-d40cfb93f761",
   "metadata": {},
   "outputs": [],
   "source": [
    "ds2 = pd.read_csv(\"titanic.csv\")"
   ]
  },
  {
   "cell_type": "code",
   "execution_count": 37,
   "id": "e5560f8c-a421-48e7-bd68-c68554348bde",
   "metadata": {},
   "outputs": [
    {
     "data": {
      "text/plain": [
       "PassengerId      0\n",
       "Survived         0\n",
       "Pclass           0\n",
       "Name             0\n",
       "Sex              0\n",
       "Age            177\n",
       "SibSp            0\n",
       "Parch            0\n",
       "Ticket           0\n",
       "Fare             0\n",
       "Cabin          687\n",
       "Embarked         2\n",
       "dtype: int64"
      ]
     },
     "execution_count": 37,
     "metadata": {},
     "output_type": "execute_result"
    }
   ],
   "source": [
    "ds2.isnull().sum()"
   ]
  },
  {
   "cell_type": "code",
   "execution_count": 38,
   "id": "9329907a-4877-4635-87f2-8be2385f5b60",
   "metadata": {},
   "outputs": [],
   "source": [
    "ds2.fillna(ds2[\"Age\"].mean(),inplace =True);"
   ]
  },
  {
   "cell_type": "code",
   "execution_count": 39,
   "id": "76ad9644-a45b-493c-835f-ec87cc7b6a13",
   "metadata": {},
   "outputs": [
    {
     "data": {
      "text/plain": [
       "PassengerId    0\n",
       "Survived       0\n",
       "Pclass         0\n",
       "Name           0\n",
       "Sex            0\n",
       "Age            0\n",
       "SibSp          0\n",
       "Parch          0\n",
       "Ticket         0\n",
       "Fare           0\n",
       "Cabin          0\n",
       "Embarked       0\n",
       "dtype: int64"
      ]
     },
     "execution_count": 39,
     "metadata": {},
     "output_type": "execute_result"
    }
   ],
   "source": [
    "ds2.isnull().sum()"
   ]
  },
  {
   "cell_type": "code",
   "execution_count": 44,
   "id": "9dcc8138-005b-4a81-bc05-67434caaf100",
   "metadata": {},
   "outputs": [
    {
     "data": {
      "text/html": [
       "<div>\n",
       "<style scoped>\n",
       "    .dataframe tbody tr th:only-of-type {\n",
       "        vertical-align: middle;\n",
       "    }\n",
       "\n",
       "    .dataframe tbody tr th {\n",
       "        vertical-align: top;\n",
       "    }\n",
       "\n",
       "    .dataframe thead th {\n",
       "        text-align: right;\n",
       "    }\n",
       "</style>\n",
       "<table border=\"1\" class=\"dataframe\">\n",
       "  <thead>\n",
       "    <tr style=\"text-align: right;\">\n",
       "      <th></th>\n",
       "      <th>Age</th>\n",
       "      <th>Fare</th>\n",
       "    </tr>\n",
       "  </thead>\n",
       "  <tbody>\n",
       "    <tr>\n",
       "      <th>Age</th>\n",
       "      <td>1.000000</td>\n",
       "      <td>0.091566</td>\n",
       "    </tr>\n",
       "    <tr>\n",
       "      <th>Fare</th>\n",
       "      <td>0.091566</td>\n",
       "      <td>1.000000</td>\n",
       "    </tr>\n",
       "  </tbody>\n",
       "</table>\n",
       "</div>"
      ],
      "text/plain": [
       "           Age      Fare\n",
       "Age   1.000000  0.091566\n",
       "Fare  0.091566  1.000000"
      ]
     },
     "execution_count": 44,
     "metadata": {},
     "output_type": "execute_result"
    }
   ],
   "source": [
    "data_cor2 = ds2.select_dtypes(\"float64\").corr()\n",
    "data_cor2"
   ]
  },
  {
   "cell_type": "code",
   "execution_count": 45,
   "id": "de2b345d-36f9-4642-b87b-a67ee716df30",
   "metadata": {},
   "outputs": [
    {
     "data": {
      "text/html": [
       "<div>\n",
       "<style scoped>\n",
       "    .dataframe tbody tr th:only-of-type {\n",
       "        vertical-align: middle;\n",
       "    }\n",
       "\n",
       "    .dataframe tbody tr th {\n",
       "        vertical-align: top;\n",
       "    }\n",
       "\n",
       "    .dataframe thead th {\n",
       "        text-align: right;\n",
       "    }\n",
       "</style>\n",
       "<table border=\"1\" class=\"dataframe\">\n",
       "  <thead>\n",
       "    <tr style=\"text-align: right;\">\n",
       "      <th></th>\n",
       "      <th>Age</th>\n",
       "      <th>Fare</th>\n",
       "    </tr>\n",
       "  </thead>\n",
       "  <tbody>\n",
       "    <tr>\n",
       "      <th>Age</th>\n",
       "      <td>169.0524</td>\n",
       "      <td>59.162200</td>\n",
       "    </tr>\n",
       "    <tr>\n",
       "      <th>Fare</th>\n",
       "      <td>59.1622</td>\n",
       "      <td>2469.436846</td>\n",
       "    </tr>\n",
       "  </tbody>\n",
       "</table>\n",
       "</div>"
      ],
      "text/plain": [
       "           Age         Fare\n",
       "Age   169.0524    59.162200\n",
       "Fare   59.1622  2469.436846"
      ]
     },
     "execution_count": 45,
     "metadata": {},
     "output_type": "execute_result"
    }
   ],
   "source": [
    "data_cov2 = ds2.select_dtypes(\"float64\").cov()\n",
    "data_cov2"
   ]
  },
  {
   "cell_type": "code",
   "execution_count": 48,
   "id": "e3d65233-9755-45fc-8b47-897f0c8ed7c3",
   "metadata": {},
   "outputs": [
    {
     "data": {
      "image/png": "[encoded data removed]",
      "text/plain": [
       "<Figure size 640x480 with 2 Axes>"
      ]
     },
     "metadata": {},
     "output_type": "display_data"
    }
   ],
   "source": [
    "sns.heatmap(data_cor2,annot= True)\n",
    "plt.show()"
   ]
  },
  {
   "cell_type": "code",
   "execution_count": 47,
   "id": "3ef9852e-d93e-4b13-aa35-7ef9c3c64dd6",
   "metadata": {},
   "outputs": [
    {
     "data": {
      "image/png": "[encoded data removed]",
      "text/plain": [
       "<Figure size 640x480 with 2 Axes>"
      ]
     },
     "metadata": {},
     "output_type": "display_data"
    }
   ],
   "source": [
    "sns.heatmap(data_cov2,annot= True)\n",
    "plt.show()"
   ]
  },
  {
   "cell_type": "code",
   "execution_count": null,
   "id": "3d9d3df7-3fe8-4802-86df-9cf92e3922c6",
   "metadata": {},
   "outputs": [],
   "source": []
  },
  {
   "cell_type": "code",
   "execution_count": null,
   "id": "7b05bb3a-0fa4-4001-8747-4130abdab0f0",
   "metadata": {},
   "outputs": [],
   "source": []
  }
 ],
 "metadata": {
  "kernelspec": {
   "display_name": "Python 3 (ipykernel)",
   "language": "python",
   "name": "python3"
  },
  "language_info": {
   "codemirror_mode": {
    "name": "ipython",
    "version": 3
   },
   "file_extension": ".py",
   "mimetype": "text/x-python",
   "name": "python",
   "nbconvert_exporter": "python",
   "pygments_lexer": "ipython3",
   "version": "3.12.4"
  }
 },
 "nbformat": 4,
 "nbformat_minor": 5
}
