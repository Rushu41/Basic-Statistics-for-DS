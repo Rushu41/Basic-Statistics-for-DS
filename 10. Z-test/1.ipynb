{
 "cells": [
  {
   "cell_type": "code",
   "execution_count": null,
   "id": "bfc36a43-cc3a-4ddd-8b9e-2e2b77c27367",
   "metadata": {},
   "outputs": [],
   "source": [
    "\"\"\"\n",
    "Example1:\n",
    "A teacher claims that the mean score of the students in his class is greater than 82  with a standard deviation \n",
    "20. If a sample of 81 was selected with mean score 90.\n",
    "Test that if this sample data is either right or wrong.\n",
    "\"\"\""
   ]
  },
  {
   "cell_type": "markdown",
   "id": "0761e53c-27ad-41cb-8bc8-ef8c2f0b62a9",
   "metadata": {},
   "source": [
    "![](2.png)"
   ]
  },
  {
   "cell_type": "code",
   "execution_count": null,
   "id": "d2e1a394-fa1a-4e3c-947d-1171702e077a",
   "metadata": {},
   "outputs": [],
   "source": [
    "\"\"\"\n",
    "the above question gives the data of:\n",
    " 1. population mean and std\n",
    " 2. number of sample > 30\n",
    " So, it will be conducted by Z testing.\n",
    "\n",
    " H0 -> μ != 82\n",
    " Ha -> μ > 82\n",
    " we take α= 0.05\n",
    " \n",
    "\"\"\""
   ]
  },
  {
   "cell_type": "code",
   "execution_count": 8,
   "id": "1b14c96c-d758-4496-8e5b-903002d64af1",
   "metadata": {},
   "outputs": [],
   "source": [
    "import scipy.stats as st\n",
    "import numpy as np"
   ]
  },
  {
   "cell_type": "code",
   "execution_count": 12,
   "id": "7cbc7e9f-9896-41d5-ad81-7230d76bf385",
   "metadata": {},
   "outputs": [
    {
     "data": {
      "text/plain": [
       "1.6448536269514722"
      ]
     },
     "execution_count": 12,
     "metadata": {},
     "output_type": "execute_result"
    }
   ],
   "source": [
    "#finding Z value usinf alpha (α)\n",
    "z_table = st.norm.ppf(0.95)\n",
    "z_table"
   ]
  },
  {
   "cell_type": "code",
   "execution_count": 13,
   "id": "2f80d5af-c2f9-431a-97fc-544b87f3e7e0",
   "metadata": {},
   "outputs": [
    {
     "data": {
      "text/plain": [
       "3.622154055254967"
      ]
     },
     "execution_count": 13,
     "metadata": {},
     "output_type": "execute_result"
    }
   ],
   "source": [
    "#sample mean\n",
    "x = 90\n",
    "# population mean\n",
    "u = 82\n",
    "#population std\n",
    "pop_std = 20\n",
    "#sample size\n",
    "n = 82\n",
    "\n",
    "Z = (x-u)/(pop_std/np.sqrt(n))\n",
    "Z"
   ]
  },
  {
   "cell_type": "code",
   "execution_count": 14,
   "id": "ed509ae9-6062-4ad3-935d-3cbf8cd24cbe",
   "metadata": {},
   "outputs": [
    {
     "name": "stdout",
     "output_type": "stream",
     "text": [
      "Ha is right\n"
     ]
    }
   ],
   "source": [
    "if z_table < Z :\n",
    "    print(\"Ha is right\")\n",
    "else:\n",
    "    print(\"H0 is right\")"
   ]
  },
  {
   "cell_type": "code",
   "execution_count": null,
   "id": "d703bb13-fb73-46da-83a4-a9700559f6ff",
   "metadata": {},
   "outputs": [],
   "source": [
    "\"\"\"\n",
    "Example 02:\n",
    "Scenario: Imagine you work for E-commerce company ,and your team is responsible for analyzing the purchase data/ You are determine whether a \n",
    "new website design has lead to significant increase in the average purchase amount compared to the old design.\n",
    "\n",
    "Data: You have collected data from a random sample of 30 who made purchases on the old website design and 30 customers who made purchases  on\n",
    "new website design .You have the sample means, sample stds and sample sizes for both groups.\n",
    "\n",
    "old_design = [41.4, 38.7, 42.1, 39.1, 41.9, 42.8, 43.9, 40.9, 40.8, 41.8,\n",
    "39.8, 43.0, 41.1, 39.4, 40.7, 41.6, 40.9, 39.7, 40.3, 39.7,\n",
    "39.3, 39.5, 38.3, 39.5, 38.8, 42.7, 38.6, 39.0, 43.9, 42.0]\n",
    "\n",
    "new_design =[47.4, 48.0, 48.1, 49.8, 50.9, 49.9, 49.7, 50.6, 48.1, 49.4,\n",
    "50.3, 48.6, 50.9, 50.9, 49.8, 47.6, 47.8, 49.4, 48.1, 48.4,\n",
    "47.4, 47.2, 48.1, 47.0, 49.2, 48.0, 49.7, 50.4, 49.7, 47.0]\n",
    "\n",
    "population std = 2.5\n",
    "\n",
    "\"\"\""
   ]
  },
  {
   "cell_type": "code",
   "execution_count": 21,
   "id": "7f94508c-a387-4326-ae33-fee4e97244d6",
   "metadata": {},
   "outputs": [],
   "source": [
    "# H0 -> web(old) == web(new)\n",
    "# Ha -> web(new) > web(old)\n",
    "# if μ isnt given in question , then we take μ(old) = μ(new)\n",
    "# Z test = {(X(new) - X(old))  - ( μ(new) - μ(old) )}/(std/sqrt(n))\n",
    "# for this case we again take alpha = 0.05\n",
    "\n",
    "old_design = np.array([41.4, 38.7, 42.1, 39.1, 41.9, 42.8, 43.9, 40.9, 40.8, 41.8,\n",
    "39.8, 43.0, 41.1, 39.4, 40.7, 41.6, 40.9, 39.7, 40.3, 39.7,\n",
    "39.3, 39.5, 38.3, 39.5, 38.8, 42.7, 38.6, 39.0, 43.9, 42.0])\n",
    "\n",
    "new_design =np.array([47.4, 48.0, 48.1, 49.8, 50.9, 49.9, 49.7, 50.6, 48.1, 49.4,\n",
    "50.3, 48.6, 50.9, 50.9, 49.8, 47.6, 47.8, 49.4, 48.1, 48.4,\n",
    "47.4, 47.2, 48.1, 47.0, 49.2, 48.0, 49.7, 50.4, 49.7, 47.0])\n",
    "\n",
    "pop_std = 2.5\n",
    "n = 30"
   ]
  },
  {
   "cell_type": "code",
   "execution_count": 22,
   "id": "52b775c4-c4e5-4a81-a0ae-301caaa0c0ba",
   "metadata": {},
   "outputs": [
    {
     "data": {
      "text/plain": [
       "1.6448536269514722"
      ]
     },
     "execution_count": 22,
     "metadata": {},
     "output_type": "execute_result"
    }
   ],
   "source": [
    "#finding Z value usinf alpha (α)\n",
    "z_table = st.norm.ppf(1-0.05)\n",
    "z_table"
   ]
  },
  {
   "cell_type": "code",
   "execution_count": 23,
   "id": "ea58957b-3d06-4259-b228-dfc7424d9c67",
   "metadata": {},
   "outputs": [
    {
     "data": {
      "text/plain": [
       "(48.91333333333334, 40.70666666666667)"
      ]
     },
     "execution_count": 23,
     "metadata": {},
     "output_type": "execute_result"
    }
   ],
   "source": [
    "mean_new = np.mean(new_design)\n",
    "mean_old = np.mean(old_design)\n",
    "mean_new,mean_old"
   ]
  },
  {
   "cell_type": "code",
   "execution_count": 24,
   "id": "0807b28a-2edf-4b07-91e1-1cc28fac4177",
   "metadata": {},
   "outputs": [
    {
     "data": {
      "text/plain": [
       "17.97990582103626"
      ]
     },
     "execution_count": 24,
     "metadata": {},
     "output_type": "execute_result"
    }
   ],
   "source": [
    "z_cal = (mean_new - mean_old)/(pop_std/np.sqrt(n))\n",
    "z_cal"
   ]
  },
  {
   "cell_type": "code",
   "execution_count": 25,
   "id": "0c33369a-1034-4a71-b91a-dca8245b8349",
   "metadata": {},
   "outputs": [
    {
     "name": "stdout",
     "output_type": "stream",
     "text": [
      "Ha is right\n"
     ]
    }
   ],
   "source": [
    "if z_table < z_cal :\n",
    "    print(\"Ha is right\")\n",
    "else:\n",
    "    print(\"H0 is right\")"
   ]
  },
  {
   "cell_type": "code",
   "execution_count": null,
   "id": "a036dc62-bf01-4424-9622-66502aee3767",
   "metadata": {},
   "outputs": [],
   "source": []
  }
 ],
 "metadata": {
  "kernelspec": {
   "display_name": "Python 3 (ipykernel)",
   "language": "python",
   "name": "python3"
  },
  "language_info": {
   "codemirror_mode": {
    "name": "ipython",
    "version": 3
   },
   "file_extension": ".py",
   "mimetype": "text/x-python",
   "name": "python",
   "nbconvert_exporter": "python",
   "pygments_lexer": "ipython3",
   "version": "3.12.4"
  }
 },
 "nbformat": 4,
 "nbformat_minor": 5
}
