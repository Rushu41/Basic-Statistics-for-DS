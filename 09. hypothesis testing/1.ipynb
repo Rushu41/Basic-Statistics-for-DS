{
 "cells": [
  {
   "cell_type": "code",
   "execution_count": null,
   "id": "165ce394-3d6d-4c51-9fa0-7ef4a6bf4152",
   "metadata": {},
   "outputs": [],
   "source": [
    "\"\"\"\n",
    "Hypothesis testing is a statistical method used to make decisions or inferences about a population based on sample data.\n",
    "It involves formulating two competing hypotheses—the null hypothesis (H0) and the alternative hypothesis (𝐻1)—and \n",
    "using statistical tests to determine which hypothesis is more likely to be true.\n",
    "\n",
    "Null Hypothesis (𝐻0): Assumes that there is no significant effect or difference.\n",
    "It represents the default or status quo.\n",
    "Alternative Hypothesis (𝐻1 or Ha): Suggests that there is a significant effect or difference.\n",
    "Example of Hypothesis Testing:\n",
    "Scenario: Suppose a company claims that its new battery lasts an average of 10 hours. A consumer protection agency wants to test this claim.\n",
    "\n",
    "Null Hypothesis (𝐻0): The battery life is 10 hours on average.\n",
    "(𝐻0:μ=10)\n",
    "Alternative Hypothesis (𝐻1): The battery life is not 10 hours on average.\n",
    "(𝐻1:𝜇≠10)\n",
    "The agency collects a sample of batteries, tests their lifespans, and performs a hypothesis test (e.g., a t-test). Based on the results:\n",
    "\n",
    "If the p-value is low (below a significance level, e.g., 0.05), they reject 𝐻0, \n",
    "suggesting the battery life is significantly different from 10 hours.\n",
    "If the p-value is high, they fail to reject 𝐻0,\n",
    "meaning there isn't enough evidence to disprove the company's claim.\n",
    "\"\"\""
   ]
  },
  {
   "cell_type": "code",
   "execution_count": null,
   "id": "f444de90-a8c7-413b-a152-9d341cefab63",
   "metadata": {},
   "outputs": [],
   "source": [
    "\"\"\"\n",
    "Steps of Hypothesis Testing:\n",
    " * state null and alternative hypothesis\n",
    " * choose level of significance\n",
    " * find critical value\n",
    " * find test statistic\n",
    " * draw your conclusion\n",
    "\"\"\""
   ]
  },
  {
   "cell_type": "code",
   "execution_count": null,
   "id": "55266906-e354-4a76-8524-e708ca195713",
   "metadata": {},
   "outputs": [],
   "source": [
    "\"\"\"\n",
    "H0 must contain equallity(=) . H1 must contain differance (<,>,!=) \n",
    "\"\"\""
   ]
  },
  {
   "cell_type": "code",
   "execution_count": null,
   "id": "231d1423-64a8-4c7f-b98f-de5389c26c94",
   "metadata": {},
   "outputs": [],
   "source": [
    "\"\"\"\n",
    "1. Z-Test 🟢\n",
    "Used When:\n",
    "\n",
    "The sample size is large (n≥30).\n",
    "The population standard deviation (σ) is known.\n",
    "The data follows a normal distribution.\n",
    "Common Applications:\n",
    "\n",
    "One-Sample Z-test: Comparing the sample mean with a population mean.\n",
    "Two-Sample Z-test: Comparing means of two independent samples.\n",
    "Example:\n",
    "A company claims that the average weight of their product is 500g.\n",
    "You take a sample of 50 items and check if the average weight differs significantly.\n",
    "\n",
    "2. T-Test 🔵\n",
    "Used When:\n",
    "\n",
    "The sample size is small (n<30).\n",
    "The population standard deviation (𝜎) is unknown.\n",
    "The data follows a normal distribution.\n",
    "Common Applications:\n",
    "\n",
    "One-Sample T-test: Checking if the sample mean is different from a population mean.\n",
    "Two-Sample (Independent) T-test: Comparing means of two independent groups.\n",
    "Paired T-test: Comparing means of the same group before and after an intervention.\n",
    "Example:\n",
    "A researcher tests whether a new teaching method improves student scores by comparing\n",
    "scores of 20 students before and after applying the method.\n",
    "\n",
    "3. Chi-Square Test (χ² Test) 🟠\n",
    "Used When:\n",
    "\n",
    "The data is categorical (not numerical).\n",
    "You want to test relationships between categorical variables.\n",
    "The sample size is large enough (expected frequency ≥ 5 for each category).\n",
    "Common Applications:\n",
    "\n",
    "Chi-Square Goodness of Fit Test: Checks if a sample follows an expected distribution.\n",
    "Chi-Square Test for Independence: Determines if two categorical variables are related.\n",
    "Example:\n",
    "A survey is conducted to check if gender (Male/Female) and preference for a product\n",
    "(Like/Dislike) are independent. If the chi-square test gives a low p-value, it suggests that gender and product preference are related.\n",
    "\"\"\""
   ]
  }
 ],
 "metadata": {
  "kernelspec": {
   "display_name": "Python 3 (ipykernel)",
   "language": "python",
   "name": "python3"
  },
  "language_info": {
   "codemirror_mode": {
    "name": "ipython",
    "version": 3
   },
   "file_extension": ".py",
   "mimetype": "text/x-python",
   "name": "python",
   "nbconvert_exporter": "python",
   "pygments_lexer": "ipython3",
   "version": "3.12.4"
  }
 },
 "nbformat": 4,
 "nbformat_minor": 5
}
