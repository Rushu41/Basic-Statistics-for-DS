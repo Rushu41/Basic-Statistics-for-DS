{
 "cells": [
  {
   "cell_type": "markdown",
   "id": "6585951e-770f-4882-9f36-27f1667f7634",
   "metadata": {},
   "source": [
    "![](11.png)"
   ]
  },
  {
   "cell_type": "markdown",
   "id": "5e474df2-ecba-4a51-8aef-06b325fc60e9",
   "metadata": {},
   "source": [
    "![](2.png)"
   ]
  },
  {
   "cell_type": "markdown",
   "id": "87ceb91e-f4d3-411f-b990-4c896336a8c0",
   "metadata": {},
   "source": [
    "![](3.png)"
   ]
  },
  {
   "cell_type": "markdown",
   "id": "72b09911-65fa-494c-908d-d023b5828dd3",
   "metadata": {},
   "source": [
    "![](4.png) ,![](5.png) ,![](6.png)"
   ]
  },
  {
   "cell_type": "code",
   "execution_count": null,
   "id": "2d83ad8f-b8e9-4d55-a764-f455929e00c2",
   "metadata": {},
   "outputs": [],
   "source": []
  }
 ],
 "metadata": {
  "kernelspec": {
   "display_name": "Python 3 (ipykernel)",
   "language": "python",
   "name": "python3"
  },
  "language_info": {
   "codemirror_mode": {
    "name": "ipython",
    "version": 3
   },
   "file_extension": ".py",
   "mimetype": "text/x-python",
   "name": "python",
   "nbconvert_exporter": "python",
   "pygments_lexer": "ipython3",
   "version": "3.12.4"
  }
 },
 "nbformat": 4,
 "nbformat_minor": 5
}
